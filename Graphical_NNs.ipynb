{
  "nbformat": 4,
  "nbformat_minor": 0,
  "metadata": {
    "colab": {
      "provenance": []
    },
    "kernelspec": {
      "name": "python3",
      "display_name": "Python 3"
    },
    "language_info": {
      "name": "python"
    }
  },
  "cells": [
    {
      "cell_type": "code",
      "source": [
        "import torch\n",
        "#!pip install -q torch-scatter~=2.1.0 torch-sparse~=0.6.16 torch-cluster~=1.6.0 torch-spline-conv~=1.2.1 torch-geometric==2.2.0 -f https://data.pyg.org/whl/torch-{torch.__version__}.html\n",
        "\n",
        "torch.manual_seed(0)\n",
        "torch.cuda.manual_seed(0)\n",
        "torch.cuda.manual_seed_all(0)\n",
        "torch.backends.cudnn.deterministic = True\n",
        "torch.backends.cudnn.benchmark = False"
      ],
      "metadata": {
        "id": "bWmdSPnUvB2h"
      },
      "execution_count": 2,
      "outputs": []
    },
    {
      "cell_type": "code",
      "source": [
        "torch.__version__"
      ],
      "metadata": {
        "colab": {
          "base_uri": "https://localhost:8080/",
          "height": 36
        },
        "id": "7s5whJqI6O7L",
        "outputId": "3b60a9f9-1847-4753-fd9a-4c6a2f0b36c6"
      },
      "execution_count": null,
      "outputs": [
        {
          "output_type": "execute_result",
          "data": {
            "text/plain": [
              "'2.1.0+cu121'"
            ],
            "application/vnd.google.colaboratory.intrinsic+json": {
              "type": "string"
            }
          },
          "metadata": {},
          "execution_count": 5
        }
      ]
    },
    {
      "cell_type": "code",
      "source": [
        "!pip3 install torch-geometric"
      ],
      "metadata": {
        "id": "HCPQA1s_6CVi",
        "colab": {
          "base_uri": "https://localhost:8080/"
        },
        "outputId": "99bbf463-acdc-45a5-9512-6f6d6045c1ac"
      },
      "execution_count": 3,
      "outputs": [
        {
          "output_type": "stream",
          "name": "stdout",
          "text": [
            "Requirement already satisfied: torch-geometric in /usr/local/lib/python3.10/dist-packages (2.4.0)\n",
            "Requirement already satisfied: tqdm in /usr/local/lib/python3.10/dist-packages (from torch-geometric) (4.66.1)\n",
            "Requirement already satisfied: numpy in /usr/local/lib/python3.10/dist-packages (from torch-geometric) (1.23.5)\n",
            "Requirement already satisfied: scipy in /usr/local/lib/python3.10/dist-packages (from torch-geometric) (1.11.4)\n",
            "Requirement already satisfied: jinja2 in /usr/local/lib/python3.10/dist-packages (from torch-geometric) (3.1.2)\n",
            "Requirement already satisfied: requests in /usr/local/lib/python3.10/dist-packages (from torch-geometric) (2.31.0)\n",
            "Requirement already satisfied: pyparsing in /usr/local/lib/python3.10/dist-packages (from torch-geometric) (3.1.1)\n",
            "Requirement already satisfied: scikit-learn in /usr/local/lib/python3.10/dist-packages (from torch-geometric) (1.2.2)\n",
            "Requirement already satisfied: psutil>=5.8.0 in /usr/local/lib/python3.10/dist-packages (from torch-geometric) (5.9.5)\n",
            "Requirement already satisfied: MarkupSafe>=2.0 in /usr/local/lib/python3.10/dist-packages (from jinja2->torch-geometric) (2.1.3)\n",
            "Requirement already satisfied: charset-normalizer<4,>=2 in /usr/local/lib/python3.10/dist-packages (from requests->torch-geometric) (3.3.2)\n",
            "Requirement already satisfied: idna<4,>=2.5 in /usr/local/lib/python3.10/dist-packages (from requests->torch-geometric) (3.6)\n",
            "Requirement already satisfied: urllib3<3,>=1.21.1 in /usr/local/lib/python3.10/dist-packages (from requests->torch-geometric) (2.0.7)\n",
            "Requirement already satisfied: certifi>=2017.4.17 in /usr/local/lib/python3.10/dist-packages (from requests->torch-geometric) (2023.11.17)\n",
            "Requirement already satisfied: joblib>=1.1.1 in /usr/local/lib/python3.10/dist-packages (from scikit-learn->torch-geometric) (1.3.2)\n",
            "Requirement already satisfied: threadpoolctl>=2.0.0 in /usr/local/lib/python3.10/dist-packages (from scikit-learn->torch-geometric) (3.2.0)\n"
          ]
        }
      ]
    },
    {
      "cell_type": "markdown",
      "source": [
        "We\n",
        "will see how Vanilla Neural Networks perform on node features only by considering them as tabular\n",
        "datasets. We will then experiment to include topological information in our neural networks. This\n",
        "will give us our first GNN architecture: a simple model that considers both node features and edges.\n",
        "Finally, we’ll compare the performance of the two architectures.\n",
        "\n",
        "Thegraph datasets we’re going to use are richer than Zachary’s Karate Club: they have\n",
        "more nodes, more edges, and include node features. In this section, we will introduce them to give\n",
        "us a good understanding of these graphs and how to process them with PyTorch Geometric. Here\n",
        "are the two datasets we will use:\n",
        "\n",
        "•  The Coradataset\n",
        "\n",
        "•  The Facebook Page-Pagedataset\n",
        "\n",
        " Cora(no license) is the most popular dataset for node classification\n",
        "in the scientific literature. It represents a network of 2,708 publications, where each connection is a\n",
        "reference. Each publicationis described as a binary vector of 1,433 unique words, where 0 and 1\n",
        "indicate the absence or presence of the corresponding word, respectively. This representation is also\n",
        "called a binary bag of wordsin natural language processing. Our goal is to classify each node into\n",
        "one of seven categories."
      ],
      "metadata": {
        "id": "emSYJ8-lBLEV"
      }
    },
    {
      "cell_type": "code",
      "source": [
        "import torch_geometric\n",
        "from torch_geometric.datasets import Planetoid\n",
        "\n",
        "# Import dataset from PyTorch Geometric\n",
        "dataset_cora = Planetoid(root=\".\", name=\"Cora\")\n",
        "\n",
        "#Cora only has one graph we can store in a dedicated data variable:\n",
        "data_cora = dataset_cora[0]\n",
        "\n",
        "# Print information about the dataset\n",
        "print(f'Dataset: {dataset_cora}')\n",
        "print('---------------')\n",
        "print(f'Number of graphs: {len(dataset_cora)}')\n",
        "print(f'Number of nodes: {data_cora.x.shape[0]}')\n",
        "print(f'Number of features: {dataset_cora.num_features}')\n",
        "print(f'Number of classes: {dataset_cora.num_classes}')\n",
        "\n",
        "# Print information about the graph\n",
        "print(f'\\nGraph:')\n",
        "print('------')\n",
        "print(f'Edges are directed: {data_cora.is_directed()}')\n",
        "print(f'Graph has isolated nodes: {data_cora.has_isolated_nodes()}')\n",
        "print(f'Graph has loops: {data_cora.has_self_loops()}')"
      ],
      "metadata": {
        "id": "tL3X4oKrvB6i",
        "colab": {
          "base_uri": "https://localhost:8080/"
        },
        "outputId": "7e443e83-f96e-402f-b812-8a741b8cf276"
      },
      "execution_count": 4,
      "outputs": [
        {
          "output_type": "stream",
          "name": "stdout",
          "text": [
            "Dataset: Cora()\n",
            "---------------\n",
            "Number of graphs: 1\n",
            "Number of nodes: 2708\n",
            "Number of features: 1433\n",
            "Number of classes: 7\n",
            "\n",
            "Graph:\n",
            "------\n",
            "Edges are directed: False\n",
            "Graph has isolated nodes: False\n",
            "Graph has loops: False\n"
          ]
        }
      ]
    },
    {
      "cell_type": "markdown",
      "source": [
        "FacebookPagePage dataset was introduced by Rozemberczki et al. in 2019 . It was created using the Facebook Graph\n",
        "API in November 2017. In this dataset, each of the 22,470 nodes represents an official Facebook page.\n",
        "Pages are connected when there are mutual likes between them. Node features (128-dim vectors) are\n",
        "created from textual descriptions written by the owners of these pages. Our goal is to classify each node\n",
        "into one of four categories:\n",
        "\n",
        "politicians, companies, television shows, and governmental organizations.\n",
        "\n",
        "The Facebook Page-Pagedataset is similar to the previous one: it’s a social network with a node\n",
        "classification task. However, there are three major differences with Cora:\n",
        "\n",
        "•  The number of nodes is much higher (2,708 versus 22,470)\n",
        "\n",
        "•  The dimensionality of the node features decreased dramatically (from 1,433 to 128)\n",
        "\n",
        "•  The goal is to classify each node into four categories instead of seven (which is easier since\n",
        "there are fewer options)"
      ],
      "metadata": {
        "id": "p4QozZgQG849"
      }
    },
    {
      "cell_type": "code",
      "source": [
        "from torch_geometric.datasets import FacebookPagePage\n",
        "\n",
        "# Import dataset from PyTorch Geometric\n",
        "dataset = FacebookPagePage(root=\".\")\n",
        "\n",
        "data = dataset[0]\n",
        "\n",
        "# Print information about the dataset\n",
        "print(f'Dataset: {dataset}')\n",
        "print('-----------------------')\n",
        "print(f'Number of graphs: {len(dataset)}')\n",
        "print(f'Number of nodes: {data.x.shape[0]}')\n",
        "print(f'Number of features: {dataset.num_features}')\n",
        "print(f'Number of classes: {dataset.num_classes}')\n",
        "\n",
        "# Print information about the graph\n",
        "print(f'\\nGraph:')\n",
        "print('------')\n",
        "print(f'Edges are directed: {data.is_directed()}')\n",
        "print(f'Graph has isolated nodes: {data.has_isolated_nodes()}')\n",
        "print(f'Graph has loops: {data.has_self_loops()}')\n",
        "\n",
        "# Create masks\n",
        "data.train_mask = range(18000)\n",
        "data.val_mask = range(18001, 20000)\n",
        "data.test_mask = range(20001, 22470)"
      ],
      "metadata": {
        "colab": {
          "base_uri": "https://localhost:8080/"
        },
        "id": "REQTvFZD5zj2",
        "outputId": "7176ec3b-5ffa-49fa-d1f9-bd41a77fbd83"
      },
      "execution_count": 5,
      "outputs": [
        {
          "output_type": "stream",
          "name": "stdout",
          "text": [
            "Dataset: FacebookPagePage()\n",
            "-----------------------\n",
            "Number of graphs: 1\n",
            "Number of nodes: 22470\n",
            "Number of features: 128\n",
            "Number of classes: 4\n",
            "\n",
            "Graph:\n",
            "------\n",
            "Edges are directed: False\n",
            "Graph has isolated nodes: False\n",
            "Graph has loops: True\n"
          ]
        }
      ]
    },
    {
      "cell_type": "code",
      "source": [
        "import pandas as pd\n",
        "\n",
        "dataset = Planetoid(root=\".\", name=\"Cora\")\n",
        "data = dataset[0]\n",
        "#print(data.shape) -->AttributeError:'GlobalStorage' object has no attribute 'shape'\n",
        "\n",
        "df_x = pd.DataFrame(data.x.numpy())\n",
        "df_x['label'] = pd.DataFrame(data.y)\n",
        "df_x"
      ],
      "metadata": {
        "colab": {
          "base_uri": "https://localhost:8080/",
          "height": 423
        },
        "id": "7VKQAKed5znD",
        "outputId": "e1b5118e-9b02-4012-e40e-e0c6d6cdb655"
      },
      "execution_count": 6,
      "outputs": [
        {
          "output_type": "execute_result",
          "data": {
            "text/plain": [
              "        0    1    2    3    4    5    6    7    8    9  ...  1424  1425  1426  \\\n",
              "0     0.0  0.0  0.0  0.0  0.0  0.0  0.0  0.0  0.0  0.0  ...   0.0   0.0   0.0   \n",
              "1     0.0  0.0  0.0  0.0  0.0  0.0  0.0  0.0  0.0  0.0  ...   0.0   0.0   0.0   \n",
              "2     0.0  0.0  0.0  0.0  0.0  0.0  0.0  0.0  0.0  0.0  ...   0.0   0.0   0.0   \n",
              "3     0.0  0.0  0.0  0.0  0.0  0.0  0.0  0.0  0.0  0.0  ...   0.0   0.0   0.0   \n",
              "4     0.0  0.0  0.0  1.0  0.0  0.0  0.0  0.0  0.0  0.0  ...   0.0   0.0   0.0   \n",
              "...   ...  ...  ...  ...  ...  ...  ...  ...  ...  ...  ...   ...   ...   ...   \n",
              "2703  0.0  0.0  0.0  0.0  0.0  1.0  0.0  0.0  0.0  0.0  ...   0.0   1.0   0.0   \n",
              "2704  0.0  0.0  1.0  0.0  0.0  0.0  0.0  0.0  0.0  0.0  ...   0.0   0.0   0.0   \n",
              "2705  0.0  0.0  0.0  0.0  0.0  0.0  0.0  0.0  0.0  0.0  ...   0.0   0.0   0.0   \n",
              "2706  0.0  0.0  0.0  0.0  0.0  0.0  0.0  0.0  0.0  0.0  ...   0.0   0.0   0.0   \n",
              "2707  0.0  0.0  0.0  0.0  0.0  0.0  0.0  0.0  0.0  0.0  ...   0.0   0.0   0.0   \n",
              "\n",
              "      1427  1428  1429  1430  1431  1432  label  \n",
              "0      0.0   0.0   0.0   0.0   0.0   0.0      3  \n",
              "1      0.0   0.0   0.0   0.0   0.0   0.0      4  \n",
              "2      0.0   0.0   0.0   0.0   0.0   0.0      4  \n",
              "3      0.0   0.0   0.0   0.0   0.0   0.0      0  \n",
              "4      0.0   0.0   0.0   0.0   0.0   0.0      3  \n",
              "...    ...   ...   ...   ...   ...   ...    ...  \n",
              "2703   0.0   0.0   0.0   0.0   0.0   0.0      3  \n",
              "2704   0.0   0.0   0.0   0.0   0.0   0.0      3  \n",
              "2705   0.0   0.0   0.0   0.0   0.0   0.0      3  \n",
              "2706   0.0   0.0   0.0   0.0   0.0   0.0      3  \n",
              "2707   0.0   0.0   0.0   0.0   0.0   0.0      3  \n",
              "\n",
              "[2708 rows x 1434 columns]"
            ],
            "text/html": [
              "\n",
              "  <div id=\"df-e7f528f5-0aad-4fd7-aa18-37d20ae5c968\" class=\"colab-df-container\">\n",
              "    <div>\n",
              "<style scoped>\n",
              "    .dataframe tbody tr th:only-of-type {\n",
              "        vertical-align: middle;\n",
              "    }\n",
              "\n",
              "    .dataframe tbody tr th {\n",
              "        vertical-align: top;\n",
              "    }\n",
              "\n",
              "    .dataframe thead th {\n",
              "        text-align: right;\n",
              "    }\n",
              "</style>\n",
              "<table border=\"1\" class=\"dataframe\">\n",
              "  <thead>\n",
              "    <tr style=\"text-align: right;\">\n",
              "      <th></th>\n",
              "      <th>0</th>\n",
              "      <th>1</th>\n",
              "      <th>2</th>\n",
              "      <th>3</th>\n",
              "      <th>4</th>\n",
              "      <th>5</th>\n",
              "      <th>6</th>\n",
              "      <th>7</th>\n",
              "      <th>8</th>\n",
              "      <th>9</th>\n",
              "      <th>...</th>\n",
              "      <th>1424</th>\n",
              "      <th>1425</th>\n",
              "      <th>1426</th>\n",
              "      <th>1427</th>\n",
              "      <th>1428</th>\n",
              "      <th>1429</th>\n",
              "      <th>1430</th>\n",
              "      <th>1431</th>\n",
              "      <th>1432</th>\n",
              "      <th>label</th>\n",
              "    </tr>\n",
              "  </thead>\n",
              "  <tbody>\n",
              "    <tr>\n",
              "      <th>0</th>\n",
              "      <td>0.0</td>\n",
              "      <td>0.0</td>\n",
              "      <td>0.0</td>\n",
              "      <td>0.0</td>\n",
              "      <td>0.0</td>\n",
              "      <td>0.0</td>\n",
              "      <td>0.0</td>\n",
              "      <td>0.0</td>\n",
              "      <td>0.0</td>\n",
              "      <td>0.0</td>\n",
              "      <td>...</td>\n",
              "      <td>0.0</td>\n",
              "      <td>0.0</td>\n",
              "      <td>0.0</td>\n",
              "      <td>0.0</td>\n",
              "      <td>0.0</td>\n",
              "      <td>0.0</td>\n",
              "      <td>0.0</td>\n",
              "      <td>0.0</td>\n",
              "      <td>0.0</td>\n",
              "      <td>3</td>\n",
              "    </tr>\n",
              "    <tr>\n",
              "      <th>1</th>\n",
              "      <td>0.0</td>\n",
              "      <td>0.0</td>\n",
              "      <td>0.0</td>\n",
              "      <td>0.0</td>\n",
              "      <td>0.0</td>\n",
              "      <td>0.0</td>\n",
              "      <td>0.0</td>\n",
              "      <td>0.0</td>\n",
              "      <td>0.0</td>\n",
              "      <td>0.0</td>\n",
              "      <td>...</td>\n",
              "      <td>0.0</td>\n",
              "      <td>0.0</td>\n",
              "      <td>0.0</td>\n",
              "      <td>0.0</td>\n",
              "      <td>0.0</td>\n",
              "      <td>0.0</td>\n",
              "      <td>0.0</td>\n",
              "      <td>0.0</td>\n",
              "      <td>0.0</td>\n",
              "      <td>4</td>\n",
              "    </tr>\n",
              "    <tr>\n",
              "      <th>2</th>\n",
              "      <td>0.0</td>\n",
              "      <td>0.0</td>\n",
              "      <td>0.0</td>\n",
              "      <td>0.0</td>\n",
              "      <td>0.0</td>\n",
              "      <td>0.0</td>\n",
              "      <td>0.0</td>\n",
              "      <td>0.0</td>\n",
              "      <td>0.0</td>\n",
              "      <td>0.0</td>\n",
              "      <td>...</td>\n",
              "      <td>0.0</td>\n",
              "      <td>0.0</td>\n",
              "      <td>0.0</td>\n",
              "      <td>0.0</td>\n",
              "      <td>0.0</td>\n",
              "      <td>0.0</td>\n",
              "      <td>0.0</td>\n",
              "      <td>0.0</td>\n",
              "      <td>0.0</td>\n",
              "      <td>4</td>\n",
              "    </tr>\n",
              "    <tr>\n",
              "      <th>3</th>\n",
              "      <td>0.0</td>\n",
              "      <td>0.0</td>\n",
              "      <td>0.0</td>\n",
              "      <td>0.0</td>\n",
              "      <td>0.0</td>\n",
              "      <td>0.0</td>\n",
              "      <td>0.0</td>\n",
              "      <td>0.0</td>\n",
              "      <td>0.0</td>\n",
              "      <td>0.0</td>\n",
              "      <td>...</td>\n",
              "      <td>0.0</td>\n",
              "      <td>0.0</td>\n",
              "      <td>0.0</td>\n",
              "      <td>0.0</td>\n",
              "      <td>0.0</td>\n",
              "      <td>0.0</td>\n",
              "      <td>0.0</td>\n",
              "      <td>0.0</td>\n",
              "      <td>0.0</td>\n",
              "      <td>0</td>\n",
              "    </tr>\n",
              "    <tr>\n",
              "      <th>4</th>\n",
              "      <td>0.0</td>\n",
              "      <td>0.0</td>\n",
              "      <td>0.0</td>\n",
              "      <td>1.0</td>\n",
              "      <td>0.0</td>\n",
              "      <td>0.0</td>\n",
              "      <td>0.0</td>\n",
              "      <td>0.0</td>\n",
              "      <td>0.0</td>\n",
              "      <td>0.0</td>\n",
              "      <td>...</td>\n",
              "      <td>0.0</td>\n",
              "      <td>0.0</td>\n",
              "      <td>0.0</td>\n",
              "      <td>0.0</td>\n",
              "      <td>0.0</td>\n",
              "      <td>0.0</td>\n",
              "      <td>0.0</td>\n",
              "      <td>0.0</td>\n",
              "      <td>0.0</td>\n",
              "      <td>3</td>\n",
              "    </tr>\n",
              "    <tr>\n",
              "      <th>...</th>\n",
              "      <td>...</td>\n",
              "      <td>...</td>\n",
              "      <td>...</td>\n",
              "      <td>...</td>\n",
              "      <td>...</td>\n",
              "      <td>...</td>\n",
              "      <td>...</td>\n",
              "      <td>...</td>\n",
              "      <td>...</td>\n",
              "      <td>...</td>\n",
              "      <td>...</td>\n",
              "      <td>...</td>\n",
              "      <td>...</td>\n",
              "      <td>...</td>\n",
              "      <td>...</td>\n",
              "      <td>...</td>\n",
              "      <td>...</td>\n",
              "      <td>...</td>\n",
              "      <td>...</td>\n",
              "      <td>...</td>\n",
              "      <td>...</td>\n",
              "    </tr>\n",
              "    <tr>\n",
              "      <th>2703</th>\n",
              "      <td>0.0</td>\n",
              "      <td>0.0</td>\n",
              "      <td>0.0</td>\n",
              "      <td>0.0</td>\n",
              "      <td>0.0</td>\n",
              "      <td>1.0</td>\n",
              "      <td>0.0</td>\n",
              "      <td>0.0</td>\n",
              "      <td>0.0</td>\n",
              "      <td>0.0</td>\n",
              "      <td>...</td>\n",
              "      <td>0.0</td>\n",
              "      <td>1.0</td>\n",
              "      <td>0.0</td>\n",
              "      <td>0.0</td>\n",
              "      <td>0.0</td>\n",
              "      <td>0.0</td>\n",
              "      <td>0.0</td>\n",
              "      <td>0.0</td>\n",
              "      <td>0.0</td>\n",
              "      <td>3</td>\n",
              "    </tr>\n",
              "    <tr>\n",
              "      <th>2704</th>\n",
              "      <td>0.0</td>\n",
              "      <td>0.0</td>\n",
              "      <td>1.0</td>\n",
              "      <td>0.0</td>\n",
              "      <td>0.0</td>\n",
              "      <td>0.0</td>\n",
              "      <td>0.0</td>\n",
              "      <td>0.0</td>\n",
              "      <td>0.0</td>\n",
              "      <td>0.0</td>\n",
              "      <td>...</td>\n",
              "      <td>0.0</td>\n",
              "      <td>0.0</td>\n",
              "      <td>0.0</td>\n",
              "      <td>0.0</td>\n",
              "      <td>0.0</td>\n",
              "      <td>0.0</td>\n",
              "      <td>0.0</td>\n",
              "      <td>0.0</td>\n",
              "      <td>0.0</td>\n",
              "      <td>3</td>\n",
              "    </tr>\n",
              "    <tr>\n",
              "      <th>2705</th>\n",
              "      <td>0.0</td>\n",
              "      <td>0.0</td>\n",
              "      <td>0.0</td>\n",
              "      <td>0.0</td>\n",
              "      <td>0.0</td>\n",
              "      <td>0.0</td>\n",
              "      <td>0.0</td>\n",
              "      <td>0.0</td>\n",
              "      <td>0.0</td>\n",
              "      <td>0.0</td>\n",
              "      <td>...</td>\n",
              "      <td>0.0</td>\n",
              "      <td>0.0</td>\n",
              "      <td>0.0</td>\n",
              "      <td>0.0</td>\n",
              "      <td>0.0</td>\n",
              "      <td>0.0</td>\n",
              "      <td>0.0</td>\n",
              "      <td>0.0</td>\n",
              "      <td>0.0</td>\n",
              "      <td>3</td>\n",
              "    </tr>\n",
              "    <tr>\n",
              "      <th>2706</th>\n",
              "      <td>0.0</td>\n",
              "      <td>0.0</td>\n",
              "      <td>0.0</td>\n",
              "      <td>0.0</td>\n",
              "      <td>0.0</td>\n",
              "      <td>0.0</td>\n",
              "      <td>0.0</td>\n",
              "      <td>0.0</td>\n",
              "      <td>0.0</td>\n",
              "      <td>0.0</td>\n",
              "      <td>...</td>\n",
              "      <td>0.0</td>\n",
              "      <td>0.0</td>\n",
              "      <td>0.0</td>\n",
              "      <td>0.0</td>\n",
              "      <td>0.0</td>\n",
              "      <td>0.0</td>\n",
              "      <td>0.0</td>\n",
              "      <td>0.0</td>\n",
              "      <td>0.0</td>\n",
              "      <td>3</td>\n",
              "    </tr>\n",
              "    <tr>\n",
              "      <th>2707</th>\n",
              "      <td>0.0</td>\n",
              "      <td>0.0</td>\n",
              "      <td>0.0</td>\n",
              "      <td>0.0</td>\n",
              "      <td>0.0</td>\n",
              "      <td>0.0</td>\n",
              "      <td>0.0</td>\n",
              "      <td>0.0</td>\n",
              "      <td>0.0</td>\n",
              "      <td>0.0</td>\n",
              "      <td>...</td>\n",
              "      <td>0.0</td>\n",
              "      <td>0.0</td>\n",
              "      <td>0.0</td>\n",
              "      <td>0.0</td>\n",
              "      <td>0.0</td>\n",
              "      <td>0.0</td>\n",
              "      <td>0.0</td>\n",
              "      <td>0.0</td>\n",
              "      <td>0.0</td>\n",
              "      <td>3</td>\n",
              "    </tr>\n",
              "  </tbody>\n",
              "</table>\n",
              "<p>2708 rows × 1434 columns</p>\n",
              "</div>\n",
              "    <div class=\"colab-df-buttons\">\n",
              "\n",
              "  <div class=\"colab-df-container\">\n",
              "    <button class=\"colab-df-convert\" onclick=\"convertToInteractive('df-e7f528f5-0aad-4fd7-aa18-37d20ae5c968')\"\n",
              "            title=\"Convert this dataframe to an interactive table.\"\n",
              "            style=\"display:none;\">\n",
              "\n",
              "  <svg xmlns=\"http://www.w3.org/2000/svg\" height=\"24px\" viewBox=\"0 -960 960 960\">\n",
              "    <path d=\"M120-120v-720h720v720H120Zm60-500h600v-160H180v160Zm220 220h160v-160H400v160Zm0 220h160v-160H400v160ZM180-400h160v-160H180v160Zm440 0h160v-160H620v160ZM180-180h160v-160H180v160Zm440 0h160v-160H620v160Z\"/>\n",
              "  </svg>\n",
              "    </button>\n",
              "\n",
              "  <style>\n",
              "    .colab-df-container {\n",
              "      display:flex;\n",
              "      gap: 12px;\n",
              "    }\n",
              "\n",
              "    .colab-df-convert {\n",
              "      background-color: #E8F0FE;\n",
              "      border: none;\n",
              "      border-radius: 50%;\n",
              "      cursor: pointer;\n",
              "      display: none;\n",
              "      fill: #1967D2;\n",
              "      height: 32px;\n",
              "      padding: 0 0 0 0;\n",
              "      width: 32px;\n",
              "    }\n",
              "\n",
              "    .colab-df-convert:hover {\n",
              "      background-color: #E2EBFA;\n",
              "      box-shadow: 0px 1px 2px rgba(60, 64, 67, 0.3), 0px 1px 3px 1px rgba(60, 64, 67, 0.15);\n",
              "      fill: #174EA6;\n",
              "    }\n",
              "\n",
              "    .colab-df-buttons div {\n",
              "      margin-bottom: 4px;\n",
              "    }\n",
              "\n",
              "    [theme=dark] .colab-df-convert {\n",
              "      background-color: #3B4455;\n",
              "      fill: #D2E3FC;\n",
              "    }\n",
              "\n",
              "    [theme=dark] .colab-df-convert:hover {\n",
              "      background-color: #434B5C;\n",
              "      box-shadow: 0px 1px 3px 1px rgba(0, 0, 0, 0.15);\n",
              "      filter: drop-shadow(0px 1px 2px rgba(0, 0, 0, 0.3));\n",
              "      fill: #FFFFFF;\n",
              "    }\n",
              "  </style>\n",
              "\n",
              "    <script>\n",
              "      const buttonEl =\n",
              "        document.querySelector('#df-e7f528f5-0aad-4fd7-aa18-37d20ae5c968 button.colab-df-convert');\n",
              "      buttonEl.style.display =\n",
              "        google.colab.kernel.accessAllowed ? 'block' : 'none';\n",
              "\n",
              "      async function convertToInteractive(key) {\n",
              "        const element = document.querySelector('#df-e7f528f5-0aad-4fd7-aa18-37d20ae5c968');\n",
              "        const dataTable =\n",
              "          await google.colab.kernel.invokeFunction('convertToInteractive',\n",
              "                                                    [key], {});\n",
              "        if (!dataTable) return;\n",
              "\n",
              "        const docLinkHtml = 'Like what you see? Visit the ' +\n",
              "          '<a target=\"_blank\" href=https://colab.research.google.com/notebooks/data_table.ipynb>data table notebook</a>'\n",
              "          + ' to learn more about interactive tables.';\n",
              "        element.innerHTML = '';\n",
              "        dataTable['output_type'] = 'display_data';\n",
              "        await google.colab.output.renderOutput(dataTable, element);\n",
              "        const docLink = document.createElement('div');\n",
              "        docLink.innerHTML = docLinkHtml;\n",
              "        element.appendChild(docLink);\n",
              "      }\n",
              "    </script>\n",
              "  </div>\n",
              "\n",
              "\n",
              "<div id=\"df-53798168-fa79-4758-be14-43a1df7f0d74\">\n",
              "  <button class=\"colab-df-quickchart\" onclick=\"quickchart('df-53798168-fa79-4758-be14-43a1df7f0d74')\"\n",
              "            title=\"Suggest charts\"\n",
              "            style=\"display:none;\">\n",
              "\n",
              "<svg xmlns=\"http://www.w3.org/2000/svg\" height=\"24px\"viewBox=\"0 0 24 24\"\n",
              "     width=\"24px\">\n",
              "    <g>\n",
              "        <path d=\"M19 3H5c-1.1 0-2 .9-2 2v14c0 1.1.9 2 2 2h14c1.1 0 2-.9 2-2V5c0-1.1-.9-2-2-2zM9 17H7v-7h2v7zm4 0h-2V7h2v10zm4 0h-2v-4h2v4z\"/>\n",
              "    </g>\n",
              "</svg>\n",
              "  </button>\n",
              "\n",
              "<style>\n",
              "  .colab-df-quickchart {\n",
              "      --bg-color: #E8F0FE;\n",
              "      --fill-color: #1967D2;\n",
              "      --hover-bg-color: #E2EBFA;\n",
              "      --hover-fill-color: #174EA6;\n",
              "      --disabled-fill-color: #AAA;\n",
              "      --disabled-bg-color: #DDD;\n",
              "  }\n",
              "\n",
              "  [theme=dark] .colab-df-quickchart {\n",
              "      --bg-color: #3B4455;\n",
              "      --fill-color: #D2E3FC;\n",
              "      --hover-bg-color: #434B5C;\n",
              "      --hover-fill-color: #FFFFFF;\n",
              "      --disabled-bg-color: #3B4455;\n",
              "      --disabled-fill-color: #666;\n",
              "  }\n",
              "\n",
              "  .colab-df-quickchart {\n",
              "    background-color: var(--bg-color);\n",
              "    border: none;\n",
              "    border-radius: 50%;\n",
              "    cursor: pointer;\n",
              "    display: none;\n",
              "    fill: var(--fill-color);\n",
              "    height: 32px;\n",
              "    padding: 0;\n",
              "    width: 32px;\n",
              "  }\n",
              "\n",
              "  .colab-df-quickchart:hover {\n",
              "    background-color: var(--hover-bg-color);\n",
              "    box-shadow: 0 1px 2px rgba(60, 64, 67, 0.3), 0 1px 3px 1px rgba(60, 64, 67, 0.15);\n",
              "    fill: var(--button-hover-fill-color);\n",
              "  }\n",
              "\n",
              "  .colab-df-quickchart-complete:disabled,\n",
              "  .colab-df-quickchart-complete:disabled:hover {\n",
              "    background-color: var(--disabled-bg-color);\n",
              "    fill: var(--disabled-fill-color);\n",
              "    box-shadow: none;\n",
              "  }\n",
              "\n",
              "  .colab-df-spinner {\n",
              "    border: 2px solid var(--fill-color);\n",
              "    border-color: transparent;\n",
              "    border-bottom-color: var(--fill-color);\n",
              "    animation:\n",
              "      spin 1s steps(1) infinite;\n",
              "  }\n",
              "\n",
              "  @keyframes spin {\n",
              "    0% {\n",
              "      border-color: transparent;\n",
              "      border-bottom-color: var(--fill-color);\n",
              "      border-left-color: var(--fill-color);\n",
              "    }\n",
              "    20% {\n",
              "      border-color: transparent;\n",
              "      border-left-color: var(--fill-color);\n",
              "      border-top-color: var(--fill-color);\n",
              "    }\n",
              "    30% {\n",
              "      border-color: transparent;\n",
              "      border-left-color: var(--fill-color);\n",
              "      border-top-color: var(--fill-color);\n",
              "      border-right-color: var(--fill-color);\n",
              "    }\n",
              "    40% {\n",
              "      border-color: transparent;\n",
              "      border-right-color: var(--fill-color);\n",
              "      border-top-color: var(--fill-color);\n",
              "    }\n",
              "    60% {\n",
              "      border-color: transparent;\n",
              "      border-right-color: var(--fill-color);\n",
              "    }\n",
              "    80% {\n",
              "      border-color: transparent;\n",
              "      border-right-color: var(--fill-color);\n",
              "      border-bottom-color: var(--fill-color);\n",
              "    }\n",
              "    90% {\n",
              "      border-color: transparent;\n",
              "      border-bottom-color: var(--fill-color);\n",
              "    }\n",
              "  }\n",
              "</style>\n",
              "\n",
              "  <script>\n",
              "    async function quickchart(key) {\n",
              "      const quickchartButtonEl =\n",
              "        document.querySelector('#' + key + ' button');\n",
              "      quickchartButtonEl.disabled = true;  // To prevent multiple clicks.\n",
              "      quickchartButtonEl.classList.add('colab-df-spinner');\n",
              "      try {\n",
              "        const charts = await google.colab.kernel.invokeFunction(\n",
              "            'suggestCharts', [key], {});\n",
              "      } catch (error) {\n",
              "        console.error('Error during call to suggestCharts:', error);\n",
              "      }\n",
              "      quickchartButtonEl.classList.remove('colab-df-spinner');\n",
              "      quickchartButtonEl.classList.add('colab-df-quickchart-complete');\n",
              "    }\n",
              "    (() => {\n",
              "      let quickchartButtonEl =\n",
              "        document.querySelector('#df-53798168-fa79-4758-be14-43a1df7f0d74 button');\n",
              "      quickchartButtonEl.style.display =\n",
              "        google.colab.kernel.accessAllowed ? 'block' : 'none';\n",
              "    })();\n",
              "  </script>\n",
              "</div>\n",
              "    </div>\n",
              "  </div>\n"
            ]
          },
          "metadata": {},
          "execution_count": 6
        }
      ]
    },
    {
      "cell_type": "code",
      "source": [
        "import torch\n",
        "torch.manual_seed(0)\n",
        "from torch.nn import Linear\n",
        "import torch.nn.functional as F\n",
        "\n",
        "\n",
        "def accuracy(y_pred, y_true):\n",
        "    \"\"\"Calculate accuracy.\"\"\"\n",
        "    return torch.sum(y_pred == y_true) / len(y_true)\n",
        "\n",
        "Val_Acc=[]\n",
        "class MLP(torch.nn.Module):\n",
        "    \"\"\"Multilayer Perceptron\"\"\"\n",
        "    def __init__(self, dim_in, dim_h, dim_out):\n",
        "        super().__init__()\n",
        "        self.linear1 = Linear(dim_in, dim_h)\n",
        "        self.linear2 = Linear(dim_h, dim_out)\n",
        "\n",
        "    def forward(self, x):\n",
        "        x = self.linear1(x)\n",
        "        x = torch.relu(x)\n",
        "        x = self.linear2(x)\n",
        "        return F.log_softmax(x, dim=1)\n",
        "\n",
        "    def fit(self, data, epochs):\n",
        "        criterion = torch.nn.CrossEntropyLoss()\n",
        "        optimizer = torch.optim.Adam(self.parameters(),\n",
        "                                          lr=0.01,\n",
        "                                          weight_decay=5e-4)\n",
        "\n",
        "        self.train()\n",
        "        for epoch in range(epochs+1):\n",
        "            optimizer.zero_grad()\n",
        "            out = self(data.x)\n",
        "            loss = criterion(out[data.train_mask], data.y[data.train_mask])\n",
        "            acc = accuracy(out[data.train_mask].argmax(dim=1),\n",
        "                          data.y[data.train_mask])\n",
        "            loss.backward()\n",
        "            optimizer.step()\n",
        "\n",
        "            val_loss = criterion(out[data.val_mask], data.y[data.val_mask])\n",
        "            val_acc = accuracy(out[data.val_mask].argmax(dim=1),\n",
        "                                  data.y[data.val_mask])\n",
        "            Val_Acc.append(val_acc)\n",
        "\n",
        "            if(epoch % 20 == 0):\n",
        "                print(f'Epoch {epoch:} | Train Loss: {loss:.3f} | Train Acc:'\n",
        "                      f' {acc*100:.2f}% | Val Loss: {val_loss:.2f} | '\n",
        "                      f'Val Acc: {val_acc*100:.2f}%')\n",
        "\n",
        "    @torch.no_grad()\n",
        "    def test(self, data):\n",
        "        self.eval()\n",
        "        out = self(data.x)\n",
        "        acc = accuracy(out.argmax(dim=1)[data.test_mask], data.y[data.test_mask])\n",
        "        return acc\n",
        "\n",
        "# Create MLP model\n",
        "mlp = MLP(dataset.num_features, 16, dataset.num_classes)\n",
        "print(mlp)\n",
        "\n",
        "# Train\n",
        "mlp.fit(dataset, epochs=100)\n",
        "\n",
        "# Test\n",
        "acc = mlp.test(data)\n",
        "print(f'\\nMLP test accuracy: {acc*100:.2f}%')"
      ],
      "metadata": {
        "colab": {
          "base_uri": "https://localhost:8080/"
        },
        "id": "vzMf8Avg5zpT",
        "outputId": "5ed31104-f574-4f7a-fda2-d85a1897bbcb"
      },
      "execution_count": 7,
      "outputs": [
        {
          "output_type": "stream",
          "name": "stdout",
          "text": [
            "MLP(\n",
            "  (linear1): Linear(in_features=1433, out_features=16, bias=True)\n",
            "  (linear2): Linear(in_features=16, out_features=7, bias=True)\n",
            ")\n",
            "Epoch 0 | Train Loss: 1.959 | Train Acc: 14.29% | Val Loss: 2.00 | Val Acc: 12.40%\n",
            "Epoch 20 | Train Loss: 0.110 | Train Acc: 100.00% | Val Loss: 1.46 | Val Acc: 49.40%\n",
            "Epoch 40 | Train Loss: 0.014 | Train Acc: 100.00% | Val Loss: 1.44 | Val Acc: 51.00%\n",
            "Epoch 60 | Train Loss: 0.008 | Train Acc: 100.00% | Val Loss: 1.40 | Val Acc: 53.80%\n",
            "Epoch 80 | Train Loss: 0.008 | Train Acc: 100.00% | Val Loss: 1.37 | Val Acc: 55.40%\n",
            "Epoch 100 | Train Loss: 0.009 | Train Acc: 100.00% | Val Loss: 1.34 | Val Acc: 54.60%\n",
            "\n",
            "MLP test accuracy: 53.40%\n"
          ]
        }
      ]
    },
    {
      "cell_type": "code",
      "source": [
        "import matplotlib.pyplot as plt\n",
        "plt.figure(figsize= (12,4))\n",
        "plt.plot(Val_Acc)\n",
        "plt.xlabel('Iteration')\n",
        "plt.ylabel('Accuracy')\n",
        "plt.title('MLP validation Accuracy')"
      ],
      "metadata": {
        "colab": {
          "base_uri": "https://localhost:8080/",
          "height": 428
        },
        "id": "R1R2uR-T1pJN",
        "outputId": "bde3e883-2af9-45ef-9ade-5223f85dfcdc"
      },
      "execution_count": 18,
      "outputs": [
        {
          "output_type": "execute_result",
          "data": {
            "text/plain": [
              "Text(0.5, 1.0, 'MLP validation Accuracy')"
            ]
          },
          "metadata": {},
          "execution_count": 18
        },
        {
          "output_type": "display_data",
          "data": {
            "text/plain": [
              "<Figure size 1200x400 with 1 Axes>"
            ],
            "image/png": "[encoded data removed]"
          },
          "metadata": {}
        }
      ]
    },
    {
      "cell_type": "code",
      "source": [
        "class VanillaGNNLayer(torch.nn.Module):\n",
        "    def __init__(self, dim_in, dim_out):\n",
        "        super().__init__()\n",
        "        self.linear = Linear(dim_in, dim_out, bias=False)\n",
        "    #Weperform two operations – the linear transformation, and then the\n",
        "    #multiplication with the adjacency matrix Ã\n",
        "    def forward(self, x, adjacency):\n",
        "        x = self.linear(x)\n",
        "        x = torch.sparse.mm(adjacency, x)\n",
        "        return x"
      ],
      "metadata": {
        "id": "H-I9kWfq5zrc"
      },
      "execution_count": 8,
      "outputs": []
    },
    {
      "cell_type": "code",
      "source": [
        "\"\"\"Before we can create our vanilla GNN, we need to convert the edge index from\n",
        "our dataset (data.edge_index) in coordinate format to a dense adjacency matrix.\n",
        "We also need to include self loops; otherwise, the central nodes won’t be taken\n",
        "into account in their own embeddings.\"\"\"\n",
        "from torch_geometric.utils import to_dense_adj\n",
        "#making adjancy matrix of edges\n",
        "print(type(to_dense_adj(data.edge_index)), to_dense_adj(data.edge_index).shape)\n",
        "\n",
        "adjacency = to_dense_adj(data.edge_index)[0]\n",
        "#torch.eye: Returns a 2-D tensor with ones on the diagonal and zeros elsewhere.\n",
        "adjacency += torch.eye(len(adjacency))\n",
        "adjacency\n",
        "\n"
      ],
      "metadata": {
        "colab": {
          "base_uri": "https://localhost:8080/"
        },
        "id": "4wDShWdi68_4",
        "outputId": "f3d970e6-be5f-43b3-b9fe-9c4b2f5335aa"
      },
      "execution_count": 9,
      "outputs": [
        {
          "output_type": "stream",
          "name": "stdout",
          "text": [
            "<class 'torch.Tensor'> torch.Size([1, 2708, 2708])\n"
          ]
        },
        {
          "output_type": "execute_result",
          "data": {
            "text/plain": [
              "tensor([[1., 0., 0.,  ..., 0., 0., 0.],\n",
              "        [0., 1., 1.,  ..., 0., 0., 0.],\n",
              "        [0., 1., 1.,  ..., 0., 0., 0.],\n",
              "        ...,\n",
              "        [0., 0., 0.,  ..., 1., 0., 0.],\n",
              "        [0., 0., 0.,  ..., 0., 1., 1.],\n",
              "        [0., 0., 0.,  ..., 0., 1., 1.]])"
            ]
          },
          "metadata": {},
          "execution_count": 9
        }
      ]
    },
    {
      "cell_type": "code",
      "source": [
        "Vali_Acc=[]\n",
        "class VanillaGNN(torch.nn.Module):\n",
        "    \"\"\"Vanilla Graph Neural Network\"\"\"\n",
        "    def __init__(self, dim_in, dim_h, dim_out):\n",
        "        super().__init__()\n",
        "        self.gnn1 = VanillaGNNLayer(dim_in, dim_h)\n",
        "        self.gnn2 = VanillaGNNLayer(dim_h, dim_out)\n",
        "\n",
        "    # We perform the same operations with our new layers, which only take the\n",
        "    # adjacency matrix we previously calculated, as an additional input:\n",
        "    def forward(self, x, adjacency):      #compared to: forward(self, x):\n",
        "        h = self.gnn1(x, adjacency)       #compared to: self.gnn1(x)\n",
        "        h = torch.relu(h)\n",
        "        h = self.gnn2(h, adjacency)\n",
        "        return F.log_softmax(h, dim=1)\n",
        "\n",
        "    def fit(self, data, epochs):\n",
        "        criterion = torch.nn.CrossEntropyLoss()\n",
        "        optimizer = torch.optim.Adam(self.parameters(),\n",
        "                                      lr=0.01,\n",
        "                                      weight_decay=5e-4)\n",
        "\n",
        "        self.train()\n",
        "        for epoch in range(epochs+1):\n",
        "            optimizer.zero_grad()\n",
        "            out = self(data.x, adjacency)\n",
        "            loss = criterion(out[data.train_mask], data.y[data.train_mask])\n",
        "            acc = accuracy(out[data.train_mask].argmax(dim=1),\n",
        "                          data.y[data.train_mask])\n",
        "            loss.backward()\n",
        "            optimizer.step()\n",
        "\n",
        "            val_loss = criterion(out[data.val_mask], data.y[data.val_mask])\n",
        "            val_acc = accuracy(out[data.val_mask].argmax(dim=1),\n",
        "                                  data.y[data.val_mask])\n",
        "            Vali_Acc.append(val_acc)\n",
        "\n",
        "            if(epoch % 20 == 0):\n",
        "\n",
        "                print(f'Epoch {epoch:} | Train Loss: {loss:.3f} | Train Acc:'\n",
        "                      f' {acc*100:.2f}% | Val Loss: {val_loss:.2f} | '\n",
        "                      f'Val Acc: {val_acc*100:.2f}%')\n",
        "\n",
        "    @torch.no_grad()\n",
        "    def test(self, data):\n",
        "        self.eval()\n",
        "        out = self(data.x, adjacency)   #compared to self(data.x)\n",
        "        acc = accuracy(out.argmax(dim=1)[data.test_mask], data.y[data.test_mask])\n",
        "        return acc\n",
        "\n",
        "# Create the Vanilla GNN model\n",
        "gnn = VanillaGNN(dataset.num_features, 16, dataset.num_classes)\n",
        "print(gnn)\n",
        "\n",
        "# Train\n",
        "gnn.fit(data, epochs=100)\n",
        "\n",
        "# Test\n",
        "acc = gnn.test(data)\n",
        "print(f'\\nGNN test accuracy: {acc*100:.2f}%')"
      ],
      "metadata": {
        "colab": {
          "base_uri": "https://localhost:8080/"
        },
        "id": "nbPFPtFI69Do",
        "outputId": "18256978-237b-4b6d-ed74-2be6e6a6e1e0"
      },
      "execution_count": 10,
      "outputs": [
        {
          "output_type": "stream",
          "name": "stdout",
          "text": [
            "VanillaGNN(\n",
            "  (gnn1): VanillaGNNLayer(\n",
            "    (linear): Linear(in_features=1433, out_features=16, bias=False)\n",
            "  )\n",
            "  (gnn2): VanillaGNNLayer(\n",
            "    (linear): Linear(in_features=16, out_features=7, bias=False)\n",
            "  )\n",
            ")\n",
            "Epoch 0 | Train Loss: 1.991 | Train Acc: 15.71% | Val Loss: 2.11 | Val Acc: 9.40%\n",
            "Epoch 20 | Train Loss: 0.065 | Train Acc: 99.29% | Val Loss: 1.47 | Val Acc: 76.80%\n",
            "Epoch 40 | Train Loss: 0.014 | Train Acc: 100.00% | Val Loss: 2.11 | Val Acc: 75.40%\n",
            "Epoch 60 | Train Loss: 0.007 | Train Acc: 100.00% | Val Loss: 2.22 | Val Acc: 75.40%\n",
            "Epoch 80 | Train Loss: 0.004 | Train Acc: 100.00% | Val Loss: 2.20 | Val Acc: 76.80%\n",
            "Epoch 100 | Train Loss: 0.003 | Train Acc: 100.00% | Val Loss: 2.19 | Val Acc: 77.00%\n",
            "\n",
            "GNN test accuracy: 76.60%\n"
          ]
        }
      ]
    },
    {
      "cell_type": "code",
      "source": [
        "plt.figure(figsize= (12,4))\n",
        "plt.plot(Vali_Acc)\n",
        "plt.xlabel('Iteration')\n",
        "plt.ylabel('Accuracy')\n",
        "plt.title('simple GNN validation Accuracy')"
      ],
      "metadata": {
        "colab": {
          "base_uri": "https://localhost:8080/",
          "height": 428
        },
        "id": "-21Tu_jb1I_s",
        "outputId": "5ab645e2-733e-48a3-9dba-792735a7b98d"
      },
      "execution_count": 23,
      "outputs": [
        {
          "output_type": "execute_result",
          "data": {
            "text/plain": [
              "Text(0.5, 1.0, 'simple GNN validation Accuracy')"
            ]
          },
          "metadata": {},
          "execution_count": 23
        },
        {
          "output_type": "display_data",
          "data": {
            "text/plain": [
              "<Figure size 1200x400 with 1 Axes>"
            ],
            "image/png": "[encoded data removed]"
          },
          "metadata": {}
        }
      ]
    },
    {
      "cell_type": "markdown",
      "source": [
        "Facebook dataset"
      ],
      "metadata": {
        "id": "j4YrdVKe7rbM"
      }
    },
    {
      "cell_type": "markdown",
      "source": [
        "# Designing the graph convolutional layer:\n",
        "\n",
        "First, let’s talk abouta problem we did not anticipate in the previous chapter. Unlike tabular or image\n",
        "data, nodes do not always have the same number of neighbors.\n",
        "However, if we look at our GNN layer, we don’t take into account this difference in the number of\n",
        "neighbors. Our layer consists of a simple sum without any normalization coefficient. Here is how we\n",
        "calculated the embedding of a node, :\n",
        "\n",
        "$h_i = \\sum_{j \\in N_i} x_j W^T$\n",
        "\n",
        "Imagine that node 1  has 1,000 neighbors and node 2  only has 1: the embedding $ ℎ_A$  will have much\n",
        "larger values than $ℎ_B$  . This is an issue because we want to compare these embeddings. How are we\n",
        "supposed to make meaningful comparisons when their values are so vastly different?\n",
        "Fortunately, there is a simple solution: dividing the embedding by the number of neighbors. Let’s write\n",
        "deg(A) , the degree of node A. Here is the new formula for the GNN layer:\n",
        "\n",
        "$h_i = \\frac{1}{deg(i)}\\sum_{j \\in N_i} x_j W^T$\n",
        "\n",
        "But how do we translate it into a matrix multiplication? As a reminder, this was what we obtained\n",
        "for our vanilla GNN layer:\n",
        "\n",
        "$H=\\tilde{A}^TXW^T$ where $\\tilde{A}= A+I$.\n",
        "\n",
        "The only thing that is missing from Vanilla GNN in this formula is a matrix to give us the normalization coefficient, $\\frac{1}{deg(i)}$. This is something that can be obtained thanks to the degree matrix D, which counts the number\n",
        "of neighbors for each node. Here is the degree matrix for the graph G as follows:\n",
        "\n",
        "\n",
        "\n",
        "\n",
        "\n"
      ],
      "metadata": {
        "id": "pay8SP_QSp6E"
      }
    },
    {
      "cell_type": "code",
      "source": [
        "import networkx as nx\n",
        "import matplotlib.pyplot as plt\n",
        "\n",
        "G = nx.Graph()\n",
        "G.add_edges_from([('A', 'B'), ('A', 'C'), ('A', 'D'), ('C', 'D')])\n",
        "\n",
        "plt.axis('off')\n",
        "nx.draw_networkx(G,\n",
        "                 pos=nx.spring_layout(G, seed=0),\n",
        "                 node_size=600,\n",
        "                 cmap='coolwarm',\n",
        "                 font_size=14,\n",
        "                 font_color='white'\n",
        "                 )"
      ],
      "metadata": {
        "colab": {
          "base_uri": "https://localhost:8080/",
          "height": 463
        },
        "id": "RlP_irEyf5CB",
        "outputId": "dcad485f-c606-4483-b716-e20d99f370e1"
      },
      "execution_count": null,
      "outputs": [
        {
          "output_type": "stream",
          "name": "stderr",
          "text": [
            "/usr/local/lib/python3.10/dist-packages/networkx/drawing/nx_pylab.py:437: UserWarning: No data for colormapping provided via 'c'. Parameters 'cmap' will be ignored\n",
            "  node_collection = ax.scatter(\n"
          ]
        },
        {
          "output_type": "display_data",
          "data": {
            "text/plain": [
              "<Figure size 640x480 with 1 Axes>"
            ],
            "image/png": "[encoded data removed]"
          },
          "metadata": {}
        }
      ]
    },
    {
      "cell_type": "code",
      "source": [
        "import numpy as np\n",
        "\n",
        "D = np.array([\n",
        "[3, 0, 0, 0],\n",
        "[0, 1, 0, 0],\n",
        "[0, 0, 2, 0],\n",
        "[0, 0, 0, 2]\n",
        "])\n",
        "\n",
        "#D_tilde= D+I\n",
        "D_tilde_inverse= np.linalg.inv(D + np.identity(4))\n",
        "D_tilde_inverse"
      ],
      "metadata": {
        "id": "ylJ5xh1j79kQ",
        "colab": {
          "base_uri": "https://localhost:8080/"
        },
        "outputId": "8fa699ca-272d-4a48-c2b9-dc96fe401cef"
      },
      "execution_count": null,
      "outputs": [
        {
          "output_type": "execute_result",
          "data": {
            "text/plain": [
              "array([[0.25      , 0.        , 0.        , 0.        ],\n",
              "       [0.        , 0.5       , 0.        , 0.        ],\n",
              "       [0.        , 0.        , 0.33333333, 0.        ],\n",
              "       [0.        , 0.        , 0.        , 0.33333333]])"
            ]
          },
          "metadata": {},
          "execution_count": 14
        }
      ]
    },
    {
      "cell_type": "markdown",
      "source": [
        "Now that we have our matrix of normalization coefficients, we can use $\\tilde{D}^{-1} \\tilde{A}^T XW^T$ that normalize every row of feature."
      ],
      "metadata": {
        "id": "AVXxO8sPnBed"
      }
    },
    {
      "cell_type": "code",
      "source": [
        "A = np.array([\n",
        "[1, 1, 1, 1],\n",
        "[1, 1, 0, 0],\n",
        "[1, 0, 1, 1],\n",
        "[1, 0, 1, 1]\n",
        "])\n",
        "\n",
        "#D_tilde_inverse * A\n",
        "print(np.linalg.inv(D + np.identity(4)) @ A)\n"
      ],
      "metadata": {
        "colab": {
          "base_uri": "https://localhost:8080/"
        },
        "id": "GLYXQlsWeSPR",
        "outputId": "c3d32518-e37b-45cc-90a5-0aec1b648fa7"
      },
      "execution_count": null,
      "outputs": [
        {
          "output_type": "stream",
          "name": "stdout",
          "text": [
            "[[0.25       0.25       0.25       0.25      ]\n",
            " [0.5        0.5        0.         0.        ]\n",
            " [0.33333333 0.         0.33333333 0.33333333]\n",
            " [0.33333333 0.         0.33333333 0.33333333]]\n"
          ]
        }
      ]
    },
    {
      "cell_type": "markdown",
      "source": [
        "Kipf and Welling noticed that features from nodes with a lot of neighbors spread very\n",
        "easily, unlike features from more isolated nodes. In the original GCN paper, the authors proposed a\n",
        "hybrid normalization to counterbalance this effect. In practice, they assign higher weights to nodes\n",
        "with few neighbors using the following formula:\n",
        "\n",
        "$H= \\tilde{D}^{1/2} \\tilde{A}^T \\tilde{D}^{1/2} XW^T$\n",
        "\n",
        "n terms of individual embeddings, this operation can be written as follows:\n",
        "\n",
        "$h_i= \\sum_{j \\in N_j} \\frac{1}{\\sqrt(dig(i)\\sqrt(dig(j)x_j W^T}$\n"
      ],
      "metadata": {
        "id": "XNHYmggqbf2O"
      }
    },
    {
      "cell_type": "markdown",
      "source": [
        "# Comparing graph convolutional and graph linear layers\n",
        "We saw, our vanilla GNN outperformed the Node2Vec model, but how does it\n",
        "compare to a GCN? In this section, we will compare their performance on the Cora and Facebook\n",
        "Page-Page datasets.\n",
        "Compared to the vanilla GNN, the main feature of the GCN is that it considers node degrees to\n",
        "weigh its features. Before the real implementation, let’s analyze the node degrees in both datasets. This\n",
        "information is relevant since it is directly linked to the performance of the GCN.\n",
        "From what we know about this architecture, we expect it to perform better when node degrees\n",
        "vary greatly. If every node has the same number of neighbors, these architectures are equivalent:\n",
        "(√deg(i)√deg(i)=deg(i) ):"
      ],
      "metadata": {
        "id": "8jjKoUEqpLaR"
      }
    },
    {
      "cell_type": "code",
      "source": [
        "# Import dataset from PyTorch Geometric\n",
        "from collections import Counter\n",
        "from torch_geometric.utils import degree\n",
        "\n",
        "#Cora datest\n",
        "dataset = Planetoid(root=\".\", name=\"Cora\")\n",
        "data = dataset[0]\n",
        "\n",
        "# Get list of degrees for each node\n",
        "degrees = degree(data.edge_index[0]).numpy()\n",
        "\n",
        "# Count the number of nodes for each degree\n",
        "numbers = Counter(degrees)\n",
        "\n",
        "# Bar plot\n",
        "fig, ax = plt.subplots()\n",
        "ax.set_xlabel('Node degree')\n",
        "ax.set_ylabel('Number of nodes')\n",
        "plt.bar(numbers.keys(), numbers.values())"
      ],
      "metadata": {
        "colab": {
          "base_uri": "https://localhost:8080/",
          "height": 467
        },
        "id": "4zhAPVhucl7u",
        "outputId": "c55aa1aa-0e67-4c7c-c9d0-3168102a55c5"
      },
      "execution_count": null,
      "outputs": [
        {
          "output_type": "execute_result",
          "data": {
            "text/plain": [
              "<BarContainer object of 37 artists>"
            ]
          },
          "metadata": {},
          "execution_count": 24
        },
        {
          "output_type": "display_data",
          "data": {
            "text/plain": [
              "<Figure size 640x480 with 1 Axes>"
            ],
            "image/png": "[encoded data removed]"
          },
          "metadata": {}
        }
      ]
    },
    {
      "cell_type": "code",
      "source": [
        "from torch_geometric.datasets import FacebookPagePage\n",
        "\n",
        "# Import dataset from PyTorch Geometric\n",
        "dataset = FacebookPagePage(root=\".\")\n",
        "data = dataset[0]\n",
        "\n",
        "# Create masks\n",
        "data.train_mask = range(18000)\n",
        "data.val_mask = range(18001, 20000)\n",
        "data.test_mask = range(20001, 22470)\n",
        "\n",
        "# Get list of degrees for each node\n",
        "degrees = degree(data.edge_index[0]).numpy()\n",
        "\n",
        "# Count the number of nodes for each degree\n",
        "numbers = Counter(degrees)\n",
        "\n",
        "# Bar plot\n",
        "fig, ax = plt.subplots()\n",
        "ax.set_xlabel('Node degree')\n",
        "ax.set_ylabel('Number of nodes')\n",
        "plt.bar(numbers.keys(), numbers.values())"
      ],
      "metadata": {
        "colab": {
          "base_uri": "https://localhost:8080/",
          "height": 467
        },
        "id": "7HEXpSwp1FBC",
        "outputId": "3fe6b1a9-0a84-48a3-c670-ef59a498083b"
      },
      "execution_count": null,
      "outputs": [
        {
          "output_type": "execute_result",
          "data": {
            "text/plain": [
              "<BarContainer object of 233 artists>"
            ]
          },
          "metadata": {},
          "execution_count": 25
        },
        {
          "output_type": "display_data",
          "data": {
            "text/plain": [
              "<Figure size 640x480 with 1 Axes>"
            ],
            "image/png": "[encoded data removed]"
          },
          "metadata": {}
        }
      ]
    },
    {
      "cell_type": "code",
      "source": [
        "import torch\n",
        "torch.manual_seed(1)\n",
        "import torch.nn.functional as F\n",
        "from torch_geometric.nn import GCNConv\n",
        "\n",
        "dataset = Planetoid(root=\".\", name=\"Cora\")\n",
        "data = dataset[0]\n",
        "\n",
        "def accuracy(y_pred, y_true):\n",
        "    \"\"\"Calculate accuracy.\"\"\"\n",
        "    return torch.sum(y_pred == y_true) / len(y_true)\n",
        "\n",
        "Valid_Acc=[]\n",
        "class GCN(torch.nn.Module):\n",
        "    \"\"\"Graph Convolutional Network\"\"\"\n",
        "    def __init__(self, dim_in, dim_h, dim_out):\n",
        "        super().__init__()\n",
        "        self.gcn1 = GCNConv(dim_in, dim_h)\n",
        "        self.gcn2 = GCNConv(dim_h, dim_out)\n",
        "\n",
        "    def forward(self, x, edge_index):\n",
        "        h = self.gcn1(x, edge_index)\n",
        "        h = torch.relu(h)\n",
        "        h = self.gcn2(h, edge_index)\n",
        "        return F.log_softmax(h, dim=1)\n",
        "\n",
        "    def fit(self, data, epochs):\n",
        "        criterion = torch.nn.CrossEntropyLoss()\n",
        "        optimizer = torch.optim.Adam(self.parameters(),\n",
        "                                      lr=0.01,\n",
        "                                      weight_decay=5e-4)\n",
        "\n",
        "        self.train()\n",
        "        for epoch in range(epochs+1):\n",
        "            optimizer.zero_grad()\n",
        "            out = self(data.x, data.edge_index)\n",
        "            loss = criterion(out[data.train_mask], data.y[data.train_mask])\n",
        "            acc = accuracy(out[data.train_mask].argmax(dim=1),\n",
        "                          data.y[data.train_mask])\n",
        "            loss.backward()\n",
        "            optimizer.step()\n",
        "\n",
        "            val_loss = criterion(out[data.val_mask], data.y[data.val_mask])\n",
        "            val_acc = accuracy(out[data.val_mask].argmax(dim=1),\n",
        "                                  data.y[data.val_mask])\n",
        "            Valid_Acc.append(val_acc)\n",
        "\n",
        "            if(epoch % 20 == 0):\n",
        "                print(f'Epoch {epoch:>3} | Train Loss: {loss:.3f} | Train Acc:'\n",
        "                      f' {acc*100:>5.2f}% | Val Loss: {val_loss:.2f} | '\n",
        "                      f'Val Acc: {val_acc*100:.2f}%')\n",
        "\n",
        "    @torch.no_grad()\n",
        "    def test(self, data):\n",
        "        self.eval()\n",
        "        out = self(data.x, data.edge_index)\n",
        "        acc = accuracy(out.argmax(dim=1)[data.test_mask], data.y[data.test_mask])\n",
        "        return acc\n",
        "\n",
        "# Create the Vanilla GNN model\n",
        "gcn = GCN(dataset.num_features, 16, dataset.num_classes)\n",
        "print(gcn)\n",
        "\n",
        "# Train\n",
        "gcn.fit(data, epochs=100)\n",
        "\n",
        "# Test\n",
        "acc = gcn.test(data)\n",
        "print(f'\\nGCN test accuracy: {acc*100:.2f}%\\n')"
      ],
      "metadata": {
        "colab": {
          "base_uri": "https://localhost:8080/"
        },
        "id": "nLIVZE0x1FE2",
        "outputId": "854b7118-22ca-4aa6-e8cf-54be91f7ef89"
      },
      "execution_count": 11,
      "outputs": [
        {
          "output_type": "stream",
          "name": "stdout",
          "text": [
            "GCN(\n",
            "  (gcn1): GCNConv(1433, 16)\n",
            "  (gcn2): GCNConv(16, 7)\n",
            ")\n",
            "Epoch   0 | Train Loss: 1.932 | Train Acc: 15.71% | Val Loss: 1.94 | Val Acc: 15.20%\n",
            "Epoch  20 | Train Loss: 0.099 | Train Acc: 100.00% | Val Loss: 0.75 | Val Acc: 77.80%\n",
            "Epoch  40 | Train Loss: 0.014 | Train Acc: 100.00% | Val Loss: 0.72 | Val Acc: 77.20%\n",
            "Epoch  60 | Train Loss: 0.015 | Train Acc: 100.00% | Val Loss: 0.71 | Val Acc: 77.80%\n",
            "Epoch  80 | Train Loss: 0.017 | Train Acc: 100.00% | Val Loss: 0.71 | Val Acc: 77.00%\n",
            "Epoch 100 | Train Loss: 0.016 | Train Acc: 100.00% | Val Loss: 0.71 | Val Acc: 76.40%\n",
            "\n",
            "GCN test accuracy: 79.70%\n",
            "\n"
          ]
        }
      ]
    },
    {
      "cell_type": "code",
      "source": [
        "import matplotlib.pyplot as plt\n",
        "plt.figure(figsize= (12,4))\n",
        "plt.plot(Vali_Acc)\n",
        "plt.xlabel('Iteration')\n",
        "plt.ylabel('Accuracy')\n",
        "plt.title('GCN validation Accuracy')"
      ],
      "metadata": {
        "colab": {
          "base_uri": "https://localhost:8080/",
          "height": 428
        },
        "id": "LUgRB7-r25sG",
        "outputId": "56f32b1c-76b7-45fb-c3ed-d4327798ebbc"
      },
      "execution_count": 13,
      "outputs": [
        {
          "output_type": "execute_result",
          "data": {
            "text/plain": [
              "Text(0.5, 1.0, 'GCN validation Accuracy')"
            ]
          },
          "metadata": {},
          "execution_count": 13
        },
        {
          "output_type": "display_data",
          "data": {
            "text/plain": [
              "<Figure size 1200x400 with 1 Axes>"
            ],
            "image/png": "[encoded data removed]"
          },
          "metadata": {}
        }
      ]
    },
    {
      "cell_type": "markdown",
      "source": [
        "# Graph Attention Networks\n",
        "Graph Attention Networks(GATs) are a theoretical improvement over GCNs. Instead of static\n",
        "normalization coefficients, they propose weighting factors calculated by a processcalled self-attention.\n",
        "The same process is at the core of one of the most successful deep learning architectures: the transformer,\n",
        "popularized by BERTand GPT-3. Introduced by Veličković et al. in 2017, GATs have become one of\n",
        "the most popular GNN architectures thanks to excellent out-of-the-box performance.\n",
        "\n",
        "The main idea behind GATs is that some nodes are more important than others. In fact, this was\n",
        "already the case with the graph convolutional layer: nodes with few neighbors were more important\n",
        "than others, thanks to the normalization coefficient\n",
        "1/√deg(i)√deg(j). This approach is limiting because it\n",
        "only takes into account node degrees. On the other hand, the goal of the graph attention layer is to produce weighting factors that also consider the importance of node features.\n",
        "Let’s call our weighting factors attention scores and note, $α_{ij}$  , the attention score between the nodes\n",
        "𝑖 and j. We can define the graph attention operator as follows:\n",
        "$h_i= \\sum_{j \\in N_i} \\alpha_{ij}Wx_j$.\n",
        "An important characteristic of GATs is that the attention scores are calculated implicitly by comparing\n",
        "inputs to each other (hence the name self-attention). In this section, we will see how to calculate these\n",
        "attention scores in four steps and also how to make an improvement to the graph attention layer:\n",
        "\n",
        "•  Linear transformation\n",
        "\n",
        "•  Activation function\n",
        "\n",
        "•  Softmax normalization\n",
        "\n",
        "•  Multi-head attention\n",
        "\n",
        "•  Improved graph attention layer."
      ],
      "metadata": {
        "id": "_yxyo9Fm7Uk7"
      }
    },
    {
      "cell_type": "markdown",
      "source": [
        "# Linear transformation\n",
        "The attention scorerepresents the importance between a central node i and aneighbor j.\n",
        " As stated\n",
        "previously, it requires node features from both nodes. In the graph attention layer, it is represented by\n",
        "a concatenation between the hidden vectors $Wx_i$\n",
        "and  $Wx_j$ , $[ Wx_i || Wx_j ]$ . Here, W  is a classic shared\n",
        "weight matrix to compute hidden vectors. An additional linear transformation is applied to this result\n",
        "with a dedicated learnable weight matrix  $W_{att}$. During training, this matrix learns weights to produce\n",
        "attention coefficients  $a_ij$ . This process is summarized by the following formula:\n",
        "\n",
        "$a_ij= W_{att}^T[ Wx_i || Wx_j ]$.\n",
        "\n",
        "# Activation function\n",
        "Nonlinearity is anessential component in neural networks to approximate nonlinear target functions.\n",
        "Such functions could not be captured by simply stacking linear layers, as their final outcome would\n",
        "still behave like a single linear layer.\n",
        "In the official implementation (https://github.com/PetarV-/GAT/blob/master/\n",
        "utils/layers.py), the authors chose the Leaky Rectified Linear Unit(ReLU) activationfunction\n",
        "(see Figure 7.1). This function fixes the dying ReLUproblem, where ReLU neurons only output zero:\n",
        "\n",
        "This isimplemented by applying the Leaky ReLU function to the output of the previous step:\n",
        "\n",
        "$e_{ij}= LeakyReLU(a_{ij})$\n",
        "\n",
        "However, we are now facing a new problem: the resulting values are not normalized!\n",
        "\n",
        "# Softmax normalization\n",
        "We want to compare differentattention scores, which means we need normalized values on the same\n",
        "scale. In machine learning, it is common to use the softmax function for this purpose. Let’s call $N_i$\n",
        "the neighboring nodes of node i, including itself:\n",
        "\n",
        "$a_{ij}= softmax(e_{ij})=$$\\frac{exp(e_{ij})}{ \\sum_{k \\in N_i}exp(e_{ik})}$\n",
        "\n",
        "The result of this operation gives us our final attention scores $a_{ij}$  . But there’s another problem: self-attention is not very stable.\n",
        "\n",
        "# Multi-head attention\n",
        "This issue was already noticed by Vaswani et al. (2017) in the original transformer paper. Their proposed\n",
        "solution consists of calculating multiple embeddings with their own attention scores instead of a single\n",
        "one. This technique is called multi-head attention.\n",
        "The implementation is straightforward, as we just have to repeat the three previous steps multiple\n",
        "times. Each instance produces an embedding $ℎ_i^k$, where  k is the index of the attention head. There\n",
        "are two ways of combining these results:\n",
        "\n",
        "•  Averaging: With this, we sum the different embeddings and normalize the result by the number\n",
        "of attention heads n:\n",
        "\n",
        "$h_i= \\frac{1}{n} \\sum_{k=1}^n h_i^k = \\frac{1}{n} \\sum_{k=1}^n \\sum_{j \\in N_i} a_{ij}^k W^k x_j$\n",
        "\n",
        "•  Concatenation: Here, weconcatenate the different embeddings, which will produce a larger matrix:\n",
        "\n",
        "$h_i= ||_{k=1}^n h_i^k= ||_{k=1}^n \\sum_{j \\in N_i} a_{ij}^k W^k x_j$\n",
        "\n",
        "In practice, there is a simple rule to know which one to use: wechoose the concatenation scheme when\n",
        "it’s a hidden layer and the average scheme when it’s the last layer of the network. The entire process\n",
        "can be summarized by the following diagram:\n",
        "\n",
        "\n"
      ],
      "metadata": {
        "id": "MO9g1JWzDVwt"
      }
    },
    {
      "cell_type": "code",
      "source": [
        "import matplotlib.pyplot as plt\n",
        "import cv2\n",
        "img= cv2.imread('/content/drive/MyDrive/images/Untitled.png')\n",
        "plt.imshow(img[...,::-1])"
      ],
      "metadata": {
        "id": "Cx_fa4sb3vxx",
        "colab": {
          "base_uri": "https://localhost:8080/",
          "height": 334
        },
        "outputId": "d8e39d57-0f77-4de9-d5d6-8bec505b00c0"
      },
      "execution_count": null,
      "outputs": [
        {
          "output_type": "execute_result",
          "data": {
            "text/plain": [
              "<matplotlib.image.AxesImage at 0x7f581c6e3280>"
            ]
          },
          "metadata": {},
          "execution_count": 28
        },
        {
          "output_type": "display_data",
          "data": {
            "text/plain": [
              "<Figure size 640x480 with 1 Axes>"
            ],
            "image/png": "[encoded data removed]"
          },
          "metadata": {}
        }
      ]
    },
    {
      "cell_type": "markdown",
      "source": [
        "# Improved graph attention layer\n",
        "Brody et al. (2021) argued that the graph attention layer only computes a static type of attention. This\n",
        "is an issue because there are simple graph problems we cannot express with a GAT. So they introduced\n",
        "an improved version, called GATv2, which computes a strictly more expressive dynamicattention.\n",
        "Their solution consists of modifying the order of operations. The weight matrix W is applied after\n",
        "the concatenation and the attention weight matrix $W_{att}$   after the  LeakyReLU function. In summary,\n",
        "here is the original Graph Attentional Operator, also GAT:\n",
        "\n",
        "$a_{ij}= \\frac{exp(W_{att}^t LeakyReLU(W[x_i||x_j)}{\\sum_{k \\in N_i}  exp(W_{att}^t LeakyReLU(W[x_i||x_k)}$\n",
        "And this is the modified operator, GATv2:\n",
        "\n",
        "$a_{ij}= \\frac{exp(W_{att}^t LeakyReLU(W[x_i||x_j)}{\\sum_{k \\in N_i}  exp(W_{att}^t LeakyReLU(W[x_i||x_k)}$\n",
        "Which one should we use? According to Brody et al., GATv2 consistently outperforms the GAT and\n",
        "thus should be preferred. In addition to the theoretical proof, they also ran several experiments to\n",
        "show the performance of GATv2 compared to the original GAT. In the rest of this chapter, we will\n",
        "consider both options: the GAT in the second section and GATv2 in the third section.\n",
        "\n",
        "# Implementing the graph attention layer in NumPy\n",
        "As previously stated, neural networks work interms of matrix multiplications. Therefore, we need\n",
        "to translate our individual embeddings into operations for the entire graph. In this section, we will\n",
        "implement the original graph attention layer from scratch to properly understand the inner workings\n",
        "of self-attention. Naturally, this process can be repeated several times to create multi-head attention.\n",
        "\n",
        "The first step consists of translating the original graph attention operator in terms of matrices. This\n",
        "is how we defined it in the last section:\n",
        "\n",
        "$h_i= \\sum_{j \\in N_i} a_{ij} Wx_j$\n",
        "\n",
        "By taking inspiration from the graph linear layer, we can write the following:\n",
        "\n",
        "$H= \\tilde{A}^T W_a XW^T$\n",
        "Where $W_α$  is a matrix that stores every $α_{ij}$.\n"
      ],
      "metadata": {
        "id": "taeec4BrSXB0"
      }
    },
    {
      "cell_type": "code",
      "source": [
        "import numpy as np\n",
        "np.random.seed(0)\n",
        "\n",
        "#1. Computing adjancy matrix for our G graph example\n",
        "A = np.array([\n",
        "[1, 1, 1, 1],\n",
        "[1, 1, 0, 0],\n",
        "[1, 0, 1, 1],\n",
        "[1, 0, 1, 1]\n",
        "])\n",
        "\n",
        "2. #For  X , we generate a random matrix of node features:\n",
        "X = np.random.uniform(-1, 1, (4, 4))\n",
        "X"
      ],
      "metadata": {
        "id": "t-lE_L6P3wkQ",
        "colab": {
          "base_uri": "https://localhost:8080/"
        },
        "outputId": "94af3f2e-f6fd-4883-c753-40ba8eacfb28"
      },
      "execution_count": null,
      "outputs": [
        {
          "output_type": "execute_result",
          "data": {
            "text/plain": [
              "array([[ 0.09762701,  0.43037873,  0.20552675,  0.08976637],\n",
              "       [-0.1526904 ,  0.29178823, -0.12482558,  0.783546  ],\n",
              "       [ 0.92732552, -0.23311696,  0.58345008,  0.05778984],\n",
              "       [ 0.13608912,  0.85119328, -0.85792788, -0.8257414 ]])"
            ]
          },
          "metadata": {},
          "execution_count": 45
        }
      ]
    },
    {
      "cell_type": "markdown",
      "source": [
        "3. The next step is to define our weightmatrices. Indeed, in graph attention layers, there are two\n",
        "of them: the regular weight matrix  W , and the attention weight matrix $W_{att}$. There are different\n",
        "ways to initialize them (Xavier or He initialization, for example), but we can just reuse the same\n",
        "random function in this example.\n",
        "The matrix  W has to be carefully designed as its dimensions are ($nb$ of hidden dimensions, $nb$ of nodes)\n",
        "Notice that  nb    =4  is already fixed because it represents the number of nodes in   X . On\n",
        "the contrary, the value of  nb of hidden dimension is arbitrary: we’ll choose 2  in this example:\n",
        "\n"
      ],
      "metadata": {
        "id": "GoE_d5nbVfaT"
      }
    },
    {
      "cell_type": "code",
      "source": [
        "W = np.random.uniform(-1, 1, (2, 4))\n",
        "W"
      ],
      "metadata": {
        "colab": {
          "base_uri": "https://localhost:8080/"
        },
        "id": "P-DkM3I7U_5s",
        "outputId": "691c83b2-27b4-45eb-9da7-8b7dae023679"
      },
      "execution_count": null,
      "outputs": [
        {
          "output_type": "execute_result",
          "data": {
            "text/plain": [
              "array([[-0.95956321,  0.66523969,  0.5563135 ,  0.7400243 ],\n",
              "       [ 0.95723668,  0.59831713, -0.07704128,  0.56105835]])"
            ]
          },
          "metadata": {},
          "execution_count": 31
        }
      ]
    },
    {
      "cell_type": "code",
      "source": [
        "#4. This attention matrix is applied to the concatenation of hidden vectors to\n",
        "#produce a unique value. Thus, its size needs to be (1, dim h× 2) :\n",
        "W_att = np.random.uniform(-1, 1, (1, 4))\n",
        "W_att"
      ],
      "metadata": {
        "colab": {
          "base_uri": "https://localhost:8080/"
        },
        "id": "FK-6T9wCU_7w",
        "outputId": "9e018971-68e4-4aa0-fab9-a8e3f2246b25"
      },
      "execution_count": null,
      "outputs": [
        {
          "output_type": "execute_result",
          "data": {
            "text/plain": [
              "array([[-0.95956321,  0.66523969,  0.5563135 ,  0.7400243 ]])"
            ]
          },
          "metadata": {},
          "execution_count": 46
        }
      ]
    },
    {
      "cell_type": "markdown",
      "source": [
        "5. We want to concatenate hidden vectors from source and destination nodes. A simple way to\n",
        "obtain pairs of source and destination nodes is to look at our adjacency matrix $\\tilde{A}$\n",
        "in COO\n",
        "format: rows store source nodes, and columns store destination nodes. NumPy provides a\n",
        "quick and efficient way of doing it with np.where():"
      ],
      "metadata": {
        "id": "Mey-SmTkWzhN"
      }
    },
    {
      "cell_type": "code",
      "source": [
        "connections = np.where(A > 0)\n",
        "connections"
      ],
      "metadata": {
        "colab": {
          "base_uri": "https://localhost:8080/"
        },
        "id": "8MS_Gz66W_5P",
        "outputId": "d5f3d777-0005-48ea-ff89-7e5268740f99"
      },
      "execution_count": null,
      "outputs": [
        {
          "output_type": "execute_result",
          "data": {
            "text/plain": [
              "(array([0, 0, 0, 0, 1, 1, 2, 2, 2, 3, 3, 3]),\n",
              " array([0, 1, 2, 3, 0, 1, 0, 2, 3, 0, 2, 3]))"
            ]
          },
          "metadata": {},
          "execution_count": 34
        }
      ]
    },
    {
      "cell_type": "code",
      "source": [
        "#6. We can concatenate hidden vectors of source and destination nodes\n",
        "np.concatenate([(X @ W.T)[connections[0]], (X @ W.T)\n",
        "[connections[1]]], axis=1)"
      ],
      "metadata": {
        "colab": {
          "base_uri": "https://localhost:8080/"
        },
        "id": "rwOw6NEiU__w",
        "outputId": "dc3e5397-9db3-4926-8a61-e4a8d278170f"
      },
      "execution_count": null,
      "outputs": [
        {
          "output_type": "execute_result",
          "data": {
            "text/plain": [
              "array([[ 0.37339233,  0.38548525,  0.37339233,  0.38548525],\n",
              "       [ 0.37339233,  0.38548525,  0.85102612,  0.47765279],\n",
              "       [ 0.37339233,  0.38548525, -0.67755906,  0.73566587],\n",
              "       [ 0.37339233,  0.38548525, -0.65268413,  0.24235977],\n",
              "       [ 0.85102612,  0.47765279,  0.37339233,  0.38548525],\n",
              "       [ 0.85102612,  0.47765279,  0.85102612,  0.47765279],\n",
              "       [-0.67755906,  0.73566587,  0.37339233,  0.38548525],\n",
              "       [-0.67755906,  0.73566587, -0.67755906,  0.73566587],\n",
              "       [-0.67755906,  0.73566587, -0.65268413,  0.24235977],\n",
              "       [-0.65268413,  0.24235977,  0.37339233,  0.38548525],\n",
              "       [-0.65268413,  0.24235977, -0.67755906,  0.73566587],\n",
              "       [-0.65268413,  0.24235977, -0.65268413,  0.24235977]])"
            ]
          },
          "metadata": {},
          "execution_count": 35
        }
      ]
    },
    {
      "cell_type": "code",
      "source": [
        "#7.We then apply a linear transformationto this result with the attention matrix\n",
        "a = W_att @ np.concatenate([(X @ W.T)[connections[0]], (X\n",
        "@ W.T)[connections[1]]], axis=1).T\n",
        "a"
      ],
      "metadata": {
        "colab": {
          "base_uri": "https://localhost:8080/"
        },
        "id": "Jco4g24RXzlc",
        "outputId": "37f0330b-3963-4631-dd5e-e8a0d8cf82ee"
      },
      "execution_count": null,
      "outputs": [
        {
          "output_type": "execute_result",
          "data": {
            "text/plain": [
              "array([[-0.1007035 , -0.35942847,  0.96036209,  0.50390318, -0.43956122,\n",
              "        -0.69828618,  0.79964181,  1.8607074 ,  1.40424849,  0.64260322,\n",
              "         1.70366881,  1.2472099 ]])"
            ]
          },
          "metadata": {},
          "execution_count": 37
        }
      ]
    },
    {
      "cell_type": "code",
      "source": [
        "#8.this step consists of applying a Leaky ReLU function to the previous outcome\n",
        "def leaky_relu(x, alpha=0.2):\n",
        "    return np.maximum(alpha*x, x)\n",
        "\n",
        "e = leaky_relu(a)\n",
        "e"
      ],
      "metadata": {
        "colab": {
          "base_uri": "https://localhost:8080/"
        },
        "id": "AQWITd3EX80z",
        "outputId": "103a137d-b544-4415-f346-b67cbc080501"
      },
      "execution_count": null,
      "outputs": [
        {
          "output_type": "execute_result",
          "data": {
            "text/plain": [
              "array([[-0.0201407 , -0.07188569,  0.96036209,  0.50390318, -0.08791224,\n",
              "        -0.13965724,  0.79964181,  1.8607074 ,  1.40424849,  0.64260322,\n",
              "         1.70366881,  1.2472099 ]])"
            ]
          },
          "metadata": {},
          "execution_count": 39
        }
      ]
    },
    {
      "cell_type": "markdown",
      "source": [
        "9. We have the right values but need to place them correctly in a matrix. This matrix should look\n",
        "like $\\tilde{A}$\n",
        "because there is no need for unnormalized attention scores when there is no connection\n",
        "between two nodes. To build this matrix, we know the sources i  and destinations j  thanks to\n",
        "connections. So, the first value in e corresponds to\n",
        "$e_{00}$\n",
        ", the second value to\n",
        "$e_{01}$\n",
        ", but the\n",
        "seventh value corresponds to $e_{20}$\n",
        "and not to $e_{12}$\n",
        ". We can fill the matrix as follows"
      ],
      "metadata": {
        "id": "zhrdnWoEYVg4"
      }
    },
    {
      "cell_type": "code",
      "source": [
        "E = np.zeros(A.shape)\n",
        "E[connections[0], connections[1]] = e[0]\n",
        "E"
      ],
      "metadata": {
        "colab": {
          "base_uri": "https://localhost:8080/"
        },
        "id": "xj7ML3jkX856",
        "outputId": "63ae43a5-e985-4526-9797-e143f1a905b9"
      },
      "execution_count": null,
      "outputs": [
        {
          "output_type": "execute_result",
          "data": {
            "text/plain": [
              "array([[-0.0201407 , -0.07188569,  0.96036209,  0.50390318],\n",
              "       [-0.08791224, -0.13965724,  0.        ,  0.        ],\n",
              "       [ 0.79964181,  0.        ,  1.8607074 ,  1.40424849],\n",
              "       [ 0.64260322,  0.        ,  1.70366881,  1.2472099 ]])"
            ]
          },
          "metadata": {},
          "execution_count": 41
        }
      ]
    },
    {
      "cell_type": "markdown",
      "source": [
        "10.The next step is to normalize every row of attention scores. This requires a custom softmax\n",
        "# function to produce our final attention scores:"
      ],
      "metadata": {
        "id": "Kt7dllW1XYBE"
      }
    },
    {
      "cell_type": "code",
      "source": [
        "def softmax2D(x, axis):\n",
        "    e = np.exp(x - np.expand_dims(np.max(x, axis=axis),\n",
        "        axis))\n",
        "    sum = np.expand_dims(np.sum(e, axis=axis), axis)\n",
        "    return e / sum\n",
        "\n",
        "W_alpha = softmax2D(E, 1)\n",
        "W_alpha"
      ],
      "metadata": {
        "colab": {
          "base_uri": "https://localhost:8080/"
        },
        "id": "e_1RGybKXZMP",
        "outputId": "06744fdc-2d9e-40e9-a939-04ea1123e5a8"
      },
      "execution_count": null,
      "outputs": [
        {
          "output_type": "execute_result",
          "data": {
            "text/plain": [
              "array([[0.15862414, 0.15062488, 0.42285965, 0.26789133],\n",
              "       [0.24193418, 0.22973368, 0.26416607, 0.26416607],\n",
              "       [0.16208847, 0.07285714, 0.46834625, 0.29670814],\n",
              "       [0.16010498, 0.08420266, 0.46261506, 0.2930773 ]])"
            ]
          },
          "metadata": {},
          "execution_count": 43
        }
      ]
    },
    {
      "cell_type": "markdown",
      "source": [
        "11. This attention matrix  $W_α$  provides weights for every possible connection in the network. We\n",
        "can use it to calculate our matrix of embeddings H  , which should give us two-dimensional\n",
        "vectors for each node:"
      ],
      "metadata": {
        "id": "GIwn2A78ZQ5F"
      }
    },
    {
      "cell_type": "code",
      "source": [
        "H = A.T @ W_alpha @ X @ W.T\n",
        "H"
      ],
      "metadata": {
        "colab": {
          "base_uri": "https://localhost:8080/"
        },
        "id": "RI_mKLUSZZBI",
        "outputId": "31c9510c-48bc-426e-c192-fae13c210a6c"
      },
      "execution_count": null,
      "outputs": [
        {
          "output_type": "execute_result",
          "data": {
            "text/plain": [
              "array([[-1.10126376,  1.99749693],\n",
              "       [-0.33950544,  0.97045933],\n",
              "       [-1.03570438,  1.53614075],\n",
              "       [-1.03570438,  1.53614075]])"
            ]
          },
          "metadata": {},
          "execution_count": 44
        }
      ]
    },
    {
      "cell_type": "markdown",
      "source": [
        "Our graphattention layer is now complete! Adding multi-head attention consists of repeating\n",
        "these steps with different $W$  and $W_{att}$  before aggregating the results."
      ],
      "metadata": {
        "id": "qmk_LT2GZifI"
      }
    },
    {
      "cell_type": "markdown",
      "source": [
        "# Implementing GAT:"
      ],
      "metadata": {
        "id": "PkpPJpoKaaog"
      }
    },
    {
      "cell_type": "code",
      "execution_count": null,
      "metadata": {
        "id": "LHWS5blDTCVv"
      },
      "outputs": [],
      "source": [
        "from torch_geometric.datasets import Planetoid\n",
        "\n",
        "# Import dataset from PyTorch Geometric\n",
        "dataset_cora = Planetoid(root=\".\", name=\"Cora\")\n",
        "data_cora = dataset_cora[0]"
      ]
    },
    {
      "cell_type": "code",
      "execution_count": 14,
      "metadata": {
        "colab": {
          "base_uri": "https://localhost:8080/"
        },
        "id": "45iaJfMLTJKX",
        "outputId": "83fb282f-b8ee-48df-e75c-dca0e0e9b0a9"
      },
      "outputs": [
        {
          "output_type": "stream",
          "name": "stdout",
          "text": [
            "GAT(\n",
            "  (gat1): GATv2Conv(1433, 32, heads=8)\n",
            "  (gat2): GATv2Conv(256, 7, heads=1)\n",
            ")\n",
            "Epoch 0 | Train Loss: 1.969 | Train Acc: 15.00% | Val Loss: 1.96 | Val Acc: 11.80%\n",
            "Epoch 20 | Train Loss: 0.259 | Train Acc: 96.43% | Val Loss: 1.10 | Val Acc: 67.60%\n",
            "Epoch 40 | Train Loss: 0.163 | Train Acc: 98.57% | Val Loss: 0.90 | Val Acc: 70.80%\n",
            "Epoch 60 | Train Loss: 0.205 | Train Acc: 98.57% | Val Loss: 0.96 | Val Acc: 69.00%\n",
            "Epoch 80 | Train Loss: 0.130 | Train Acc: 100.00% | Val Loss: 0.91 | Val Acc: 70.80%\n",
            "Epoch 100 | Train Loss: 0.148 | Train Acc: 99.29% | Val Loss: 0.90 | Val Acc: 73.00%\n",
            "GAT test accuracy: 82.00%\n"
          ]
        }
      ],
      "source": [
        "import torch\n",
        "torch.manual_seed(1)\n",
        "import torch.nn.functional as F\n",
        "from torch_geometric.nn import GATv2Conv, GCNConv\n",
        "from torch.nn import Linear, Dropout\n",
        "\n",
        "Validation_Acc=[]\n",
        "def accuracy(y_pred, y_true):\n",
        "    \"\"\"Calculate accuracy.\"\"\"\n",
        "    return torch.sum(y_pred == y_true) / len(y_true)\n",
        "\n",
        "\n",
        "class GAT(torch.nn.Module):\n",
        "    def __init__(self, dim_in, dim_h, dim_out, heads=8):\n",
        "        super().__init__()\n",
        "        \"\"\"The class is initialized with two improved graph attention layers.\n",
        "        Note it is important to declare the number of heads used for multi-head\n",
        "        attention. The authors stated that eight heads improved performance for\n",
        "        the first layer, but it didn’t make any difference for the second one\"\"\"\n",
        "        self.gat1 = GATv2Conv(dim_in, dim_h, heads=heads)\n",
        "        self.gat2 = GATv2Conv(dim_h*heads, dim_out, heads=1)\n",
        "\n",
        "    def forward(self, x, edge_index):\n",
        "        h = F.dropout(x, p=0.6, training=self.training)\n",
        "        h = self.gat1(h, edge_index)\n",
        "        h = F.elu(h)\n",
        "        h = F.dropout(h, p=0.6, training=self.training)\n",
        "        h = self.gat2(h, edge_index)\n",
        "        return F.log_softmax(h, dim=1)\n",
        "\n",
        "    def fit(self, data, epochs):\n",
        "        criterion = torch.nn.CrossEntropyLoss()\n",
        "        optimizer = torch.optim.Adam(self.parameters(), lr=0.01, weight_decay=0.01)\n",
        "\n",
        "        self.train()\n",
        "        for epoch in range(epochs+1):\n",
        "            optimizer.zero_grad()\n",
        "            out = self(data.x, data.edge_index)\n",
        "            loss = criterion(out[data.train_mask], data.y[data.train_mask])\n",
        "            acc = accuracy(out[data.train_mask].argmax(dim=1), data.y[data.train_mask])\n",
        "            loss.backward()\n",
        "            optimizer.step()\n",
        "\n",
        "            val_loss = criterion(out[data.val_mask], data.y[data.val_mask])\n",
        "            val_acc = accuracy(out[data.val_mask].argmax(dim=1), data.y[data.val_mask])\n",
        "            Validation_Acc.append(val_acc)\n",
        "\n",
        "            if(epoch % 20 == 0):\n",
        "\n",
        "                print(f'Epoch {epoch:} | Train Loss: {loss:.3f} | Train Acc: {acc*100:.2f}% | Val Loss: {val_loss:.2f} | Val Acc: {val_acc*100:.2f}%')\n",
        "\n",
        "    @torch.no_grad()\n",
        "    def test(self, data):\n",
        "        self.eval()\n",
        "        out = self(data.x, data.edge_index)\n",
        "        acc = accuracy(out.argmax(dim=1)[data.test_mask], data.y[data.test_mask])\n",
        "        return acc\n",
        "\n",
        "# Create GAT\n",
        "gat = GAT(dataset.num_features, 32, dataset.num_classes)\n",
        "print(gat)\n",
        "\n",
        "# Train\n",
        "gat.fit(data_cora, epochs=100)\n",
        "\n",
        "# Test\n",
        "acc = gat.test(data_cora)\n",
        "print(f'GAT test accuracy: {acc*100:.2f}%')"
      ]
    },
    {
      "cell_type": "code",
      "source": [
        "plt.figure(figsize= (12,4))\n",
        "plt.plot(Validation_Acc)\n",
        "plt.xlabel('Iteration')\n",
        "plt.ylabel('Accuracy')\n",
        "plt.title('Validation Accuracy for GAT')"
      ],
      "metadata": {
        "colab": {
          "base_uri": "https://localhost:8080/",
          "height": 428
        },
        "id": "qRUEFaPh3qX8",
        "outputId": "ddd03499-43bf-44d9-e7ad-cb6f2cbfa16c"
      },
      "execution_count": 15,
      "outputs": [
        {
          "output_type": "execute_result",
          "data": {
            "text/plain": [
              "Text(0.5, 1.0, 'Validation Accuracy for GAT')"
            ]
          },
          "metadata": {},
          "execution_count": 15
        },
        {
          "output_type": "display_data",
          "data": {
            "text/plain": [
              "<Figure size 1200x400 with 1 Axes>"
            ],
            "image/png": "[encoded data removed]"
          },
          "metadata": {}
        }
      ]
    },
    {
      "cell_type": "markdown",
      "source": [
        "In this part, we will train all 4 methods for Facebook dataset and compre time and accuracy for each method:"
      ],
      "metadata": {
        "id": "aMK2AGcLJypU"
      }
    },
    {
      "cell_type": "code",
      "source": [
        "import time\n",
        "\n",
        "Acc= []\n",
        "# Dataset\n",
        "dataset = FacebookPagePage(root=\".\")\n",
        "data = dataset[0]\n",
        "data.train_mask = range(18000)\n",
        "data.val_mask = range(18001, 20000)\n",
        "data.test_mask = range(20001, 22470)\n",
        "\n",
        "# Adjacency matrix\n",
        "adjacency = to_dense_adj(data.edge_index)[0]\n",
        "adjacency += torch.eye(len(adjacency))\n",
        "#adjacency\n",
        "\n",
        "# MLP\n",
        "start= time.time()\n",
        "mlp = MLP(dataset.num_features, 16, dataset.num_classes)\n",
        "print(mlp)\n",
        "mlp.fit(data, epochs=100)\n",
        "acc = mlp.test(data)\n",
        "Acc.append(acc)\n",
        "print(f'\\nMLP test accuracy: {acc*100:.2f}%\\n')\n",
        "print(f'Training for this method took {(time.time()- start)/60: .2f} min')\n",
        "print('.............................................')\n",
        "\n",
        "# GNN\n",
        "start= time.time()\n",
        "gnn = VanillaGNN(dataset.num_features, 16, dataset.num_classes)\n",
        "print(gnn)\n",
        "gnn.fit(data, epochs=100)\n",
        "acc = gnn.test(data)\n",
        "Acc.append(acc)\n",
        "print(f'\\nGNN test accuracy: {acc*100:.2f}%')\n",
        "print(f'Training for this method took {(time.time()- start)/60: .2f} min')\n",
        "print('.............................................')\n",
        "\n",
        "# GCN\n",
        "start= time.time()\n",
        "gcn = GCN(dataset.num_features, 16, dataset.num_classes)\n",
        "print(gcn)\n",
        "gcn.fit(data, epochs=100)\n",
        "acc = gcn.test(data)\n",
        "Acc.append(acc)\n",
        "print(f'\\nGCN test accuracy: {acc*100:.2f}%\\n')\n",
        "print(f'Training for this method took {(time.time()- start)/60: .2f} min')\n",
        "print('.............................................')\n",
        "\n",
        "# GAT\n",
        "start= time.time()\n",
        "gat = GAT(dataset.num_features, 32, dataset.num_classes)\n",
        "print(gat)\n",
        "gat.fit(data, epochs=100)\n",
        "acc = gcn.test(data)\n",
        "Acc.append(acc)\n",
        "print(f'\\nGCN test accuracy: {acc*100:.2f}%\\n')\n",
        "print(f'Training for this method took {(time.time()- start)/60: .2f} min')"
      ],
      "metadata": {
        "colab": {
          "base_uri": "https://localhost:8080/"
        },
        "outputId": "2e7785ae-1ee1-42c3-cf65-88a4778746ab",
        "id": "Wy-E4Lvt-ldg"
      },
      "execution_count": 20,
      "outputs": [
        {
          "output_type": "stream",
          "name": "stdout",
          "text": [
            "MLP(\n",
            "  (linear1): Linear(in_features=128, out_features=16, bias=True)\n",
            "  (linear2): Linear(in_features=16, out_features=4, bias=True)\n",
            ")\n",
            "Epoch 0 | Train Loss: 1.426 | Train Acc: 27.31% | Val Loss: 1.42 | Val Acc: 26.86%\n",
            "Epoch 20 | Train Loss: 0.676 | Train Acc: 73.23% | Val Loss: 0.70 | Val Acc: 72.19%\n",
            "Epoch 40 | Train Loss: 0.586 | Train Acc: 76.52% | Val Loss: 0.62 | Val Acc: 73.94%\n",
            "Epoch 60 | Train Loss: 0.555 | Train Acc: 77.97% | Val Loss: 0.60 | Val Acc: 75.24%\n",
            "Epoch 80 | Train Loss: 0.538 | Train Acc: 78.59% | Val Loss: 0.60 | Val Acc: 76.09%\n",
            "Epoch 100 | Train Loss: 0.525 | Train Acc: 79.08% | Val Loss: 0.60 | Val Acc: 76.49%\n",
            "\n",
            "MLP test accuracy: 76.31%\n",
            "\n",
            "Training for this method took  0.07 min\n",
            ".............................................\n",
            "VanillaGNN(\n",
            "  (gnn1): VanillaGNNLayer(\n",
            "    (linear): Linear(in_features=128, out_features=16, bias=False)\n",
            "  )\n",
            "  (gnn2): VanillaGNNLayer(\n",
            "    (linear): Linear(in_features=16, out_features=4, bias=False)\n",
            "  )\n",
            ")\n",
            "Epoch 0 | Train Loss: 97.706 | Train Acc: 24.49% | Val Loss: 98.78 | Val Acc: 23.66%\n",
            "Epoch 20 | Train Loss: 5.675 | Train Acc: 79.01% | Val Loss: 3.28 | Val Acc: 78.79%\n",
            "Epoch 40 | Train Loss: 1.448 | Train Acc: 81.85% | Val Loss: 1.28 | Val Acc: 81.64%\n",
            "Epoch 60 | Train Loss: 0.867 | Train Acc: 83.09% | Val Loss: 0.82 | Val Acc: 83.64%\n",
            "Epoch 80 | Train Loss: 0.671 | Train Acc: 83.66% | Val Loss: 0.67 | Val Acc: 83.54%\n",
            "Epoch 100 | Train Loss: 0.579 | Train Acc: 84.91% | Val Loss: 0.60 | Val Acc: 85.14%\n",
            "\n",
            "GNN test accuracy: 83.76%\n",
            "Training for this method took  8.24 min\n",
            ".............................................\n",
            "GCN(\n",
            "  (gcn1): GCNConv(128, 16)\n",
            "  (gcn2): GCNConv(16, 4)\n",
            ")\n",
            "Epoch   0 | Train Loss: 1.548 | Train Acc: 24.64% | Val Loss: 1.53 | Val Acc: 25.16%\n",
            "Epoch  20 | Train Loss: 0.503 | Train Acc: 82.47% | Val Loss: 0.50 | Val Acc: 83.04%\n",
            "Epoch  40 | Train Loss: 0.333 | Train Acc: 89.22% | Val Loss: 0.32 | Val Acc: 90.15%\n",
            "Epoch  60 | Train Loss: 0.282 | Train Acc: 91.19% | Val Loss: 0.27 | Val Acc: 91.55%\n",
            "Epoch  80 | Train Loss: 0.257 | Train Acc: 92.12% | Val Loss: 0.25 | Val Acc: 92.70%\n",
            "Epoch 100 | Train Loss: 0.242 | Train Acc: 92.67% | Val Loss: 0.24 | Val Acc: 93.05%\n",
            "\n",
            "GCN test accuracy: 91.33%\n",
            "\n",
            "Training for this method took  0.36 min\n",
            ".............................................\n",
            "GAT(\n",
            "  (gat1): GATv2Conv(128, 32, heads=8)\n",
            "  (gat2): GATv2Conv(256, 4, heads=1)\n",
            ")\n",
            "Epoch 0 | Train Loss: 1.688 | Train Acc: 24.85% | Val Loss: 1.69 | Val Acc: 25.11%\n",
            "Epoch 20 | Train Loss: 0.377 | Train Acc: 87.33% | Val Loss: 0.36 | Val Acc: 88.34%\n",
            "Epoch 40 | Train Loss: 0.356 | Train Acc: 88.57% | Val Loss: 0.34 | Val Acc: 89.59%\n",
            "Epoch 60 | Train Loss: 0.334 | Train Acc: 88.54% | Val Loss: 0.34 | Val Acc: 88.74%\n",
            "Epoch 80 | Train Loss: 0.345 | Train Acc: 88.37% | Val Loss: 0.35 | Val Acc: 88.69%\n",
            "Epoch 100 | Train Loss: 0.333 | Train Acc: 88.78% | Val Loss: 0.32 | Val Acc: 88.44%\n",
            "\n",
            "GCN test accuracy: 91.33%\n",
            "\n",
            "Training for this method took  10.39 min\n"
          ]
        }
      ]
    },
    {
      "cell_type": "code",
      "source": [
        "import matplotlib.pyplot as plt\n",
        "import numpy as np\n",
        "\n",
        "y = [ Val_Acc,  Vali_Acc, Valid_Acc, Validation_Acc]\n",
        "labels = ['MLP', 'GNN', 'GCN', 'GAT']\n",
        "\n",
        "for y_arr, label in zip(y, labels):\n",
        "    plt.plot(y_arr, label=label)\n",
        "\n",
        "plt.legend()\n",
        "plt.title('Validation Accuracy during training Comparison')\n",
        "plt.show()"
      ],
      "metadata": {
        "colab": {
          "base_uri": "https://localhost:8080/",
          "height": 452
        },
        "id": "bpYUvquoDHHr",
        "outputId": "7772f61d-027f-40fd-de21-1e3b140f1785"
      },
      "execution_count": 25,
      "outputs": [
        {
          "output_type": "display_data",
          "data": {
            "text/plain": [
              "<Figure size 640x480 with 1 Axes>"
            ],
            "image/png": "[encoded data removed]"
          },
          "metadata": {}
        }
      ]
    },
    {
      "cell_type": "code",
      "source": [
        "names= ['Multi-layer Percetron', 'vanilla Graph NN', 'Graph Convolution NN', 'Graph Attention NN']\n",
        "plt.scatter(np.arange(1,5), Acc, color='red')\n",
        "plt.xticks(np.arange(1,5), names, rotation=30)\n",
        "plt.title('Comparions')\n"
      ],
      "metadata": {
        "colab": {
          "base_uri": "https://localhost:8080/",
          "height": 546
        },
        "id": "iaOpkRo4Flrz",
        "outputId": "0d6ba75b-d0ea-4151-a520-46a9f31f1155"
      },
      "execution_count": 21,
      "outputs": [
        {
          "output_type": "execute_result",
          "data": {
            "text/plain": [
              "Text(0.5, 1.0, 'Comparions')"
            ]
          },
          "metadata": {},
          "execution_count": 21
        },
        {
          "output_type": "display_data",
          "data": {
            "text/plain": [
              "<Figure size 640x480 with 1 Axes>"
            ],
            "image/png": "[encoded data removed]"
          },
          "metadata": {}
        }
      ]
    },
    {
      "cell_type": "markdown",
      "source": [
        "What if we continue training for 200 more epochs. Here is the result after 300 epochs:"
      ],
      "metadata": {
        "id": "rutytsJNS2W-"
      }
    },
    {
      "cell_type": "code",
      "source": [
        "import numpy as np\n",
        "import time\n",
        "\n",
        "# Dataset\n",
        "dataset = FacebookPagePage(root=\".\")\n",
        "data = dataset[0]\n",
        "data.train_mask = range(18000)\n",
        "data.val_mask = range(18001, 20000)\n",
        "data.test_mask = range(20001, 22470)\n",
        "\n",
        "# Adjacency matrix\n",
        "adjacency = to_dense_adj(data.edge_index)[0]\n",
        "adjacency += torch.eye(len(adjacency))\n",
        "adjacency\n",
        "\n",
        "models= {'Multilayer Perceptron': mlp,\n",
        "         'Vanilla GNN': gnn,\n",
        "         'Graph Covolutional network': gcn,\n",
        "         'Graph Attention': gat}\n",
        "\n",
        "results= []\n",
        "names= []\n",
        "for name, model in models.items():\n",
        "    start_time= time.time()\n",
        "    model.fit(data, epochs=100)\n",
        "    print(f'Method {name} training took {(time.time()- start_time)/60: .2f} min')\n",
        "    test_score= model.test(data)\n",
        "    results.append(test_score)\n",
        "    names.append(name)\n",
        "    print(name, 'accuracy after 300 epochs:', test_score)\n",
        "    print('.......................................')\n"
      ],
      "metadata": {
        "id": "ZWCV6LFs3wnb",
        "colab": {
          "base_uri": "https://localhost:8080/"
        },
        "outputId": "912d5264-4bc7-44cf-a6b7-4f7dec8cae57"
      },
      "execution_count": null,
      "outputs": [
        {
          "output_type": "stream",
          "name": "stdout",
          "text": [
            "Epoch 0 | Train Loss: 0.477 | Train Acc: 81.22% | Val Loss: 0.61 | Val Acc: 75.84%\n",
            "Epoch 20 | Train Loss: 0.476 | Train Acc: 81.18% | Val Loss: 0.62 | Val Acc: 76.34%\n",
            "Epoch 40 | Train Loss: 0.469 | Train Acc: 81.54% | Val Loss: 0.62 | Val Acc: 76.14%\n",
            "Epoch 60 | Train Loss: 0.464 | Train Acc: 81.70% | Val Loss: 0.63 | Val Acc: 75.79%\n",
            "Epoch 80 | Train Loss: 0.461 | Train Acc: 81.86% | Val Loss: 0.63 | Val Acc: 75.74%\n",
            "Epoch 100 | Train Loss: 0.457 | Train Acc: 82.00% | Val Loss: 0.64 | Val Acc: 75.99%\n",
            "Method Multilayer Perceptron training took  0.10 min\n",
            "Multilayer Perceptron accuracy after 300 epochs: tensor(0.7521)\n",
            ".......................................\n",
            "Epoch 0 | Train Loss: 0.389 | Train Acc: 89.99% | Val Loss: 0.40 | Val Acc: 89.54%\n",
            "Epoch 20 | Train Loss: 0.677 | Train Acc: 85.86% | Val Loss: 0.59 | Val Acc: 85.99%\n",
            "Epoch 40 | Train Loss: 0.448 | Train Acc: 87.97% | Val Loss: 0.42 | Val Acc: 88.54%\n",
            "Epoch 60 | Train Loss: 0.381 | Train Acc: 89.79% | Val Loss: 0.39 | Val Acc: 89.39%\n",
            "Epoch 80 | Train Loss: 0.353 | Train Acc: 90.34% | Val Loss: 0.37 | Val Acc: 89.79%\n",
            "Epoch 100 | Train Loss: 0.332 | Train Acc: 90.71% | Val Loss: 0.35 | Val Acc: 89.94%\n",
            "Method Vanilla GNN training took  7.67 min\n",
            "Vanilla GNN accuracy after 300 epochs: tensor(0.8983)\n",
            ".......................................\n",
            "Epoch   0 | Train Loss: 0.170 | Train Acc: 95.08% | Val Loss: 0.20 | Val Acc: 93.40%\n",
            "Epoch  20 | Train Loss: 0.171 | Train Acc: 94.86% | Val Loss: 0.20 | Val Acc: 93.60%\n",
            "Epoch  40 | Train Loss: 0.167 | Train Acc: 95.09% | Val Loss: 0.20 | Val Acc: 93.65%\n",
            "Epoch  60 | Train Loss: 0.165 | Train Acc: 95.24% | Val Loss: 0.19 | Val Acc: 93.40%\n",
            "Epoch  80 | Train Loss: 0.163 | Train Acc: 95.33% | Val Loss: 0.19 | Val Acc: 93.80%\n",
            "Epoch 100 | Train Loss: 0.161 | Train Acc: 95.38% | Val Loss: 0.19 | Val Acc: 93.80%\n",
            "Method Graph Covolutional network training took  0.36 min\n",
            "Graph Covolutional network accuracy after 300 epochs: tensor(0.9340)\n",
            ".......................................\n",
            "Epoch 0 | Train Loss: 0.325 | Train Acc: 89.37% | Val Loss: 0.32 | Val Acc: 89.34%\n",
            "Epoch 20 | Train Loss: 0.342 | Train Acc: 88.37% | Val Loss: 0.34 | Val Acc: 88.89%\n",
            "Epoch 40 | Train Loss: 0.326 | Train Acc: 89.16% | Val Loss: 0.32 | Val Acc: 89.29%\n",
            "Epoch 60 | Train Loss: 0.338 | Train Acc: 88.80% | Val Loss: 0.34 | Val Acc: 89.04%\n",
            "Epoch 80 | Train Loss: 0.326 | Train Acc: 89.11% | Val Loss: 0.32 | Val Acc: 89.94%\n",
            "Epoch 100 | Train Loss: 0.336 | Train Acc: 88.39% | Val Loss: 0.33 | Val Acc: 89.14%\n",
            "Method Graph Attention training took  9.09 min\n",
            "Graph Attention accuracy after 300 epochs: tensor(0.9121)\n",
            ".......................................\n"
          ]
        }
      ]
    },
    {
      "cell_type": "code",
      "source": [
        "names= ['Multi-layer Percetron', 'vanilla Graph NN', 'Graph Convolution NN', 'Graph Attention NN']\n",
        "plt.scatter(np.arange(1,5), results, color='red')\n",
        "plt.xticks(np.arange(1,5), names, rotation=30, fontsize= 8)\n",
        "plt.ylabel('Accuracy in Testing')\n",
        "plt.title('Comparions')"
      ],
      "metadata": {
        "colab": {
          "base_uri": "https://localhost:8080/",
          "height": 527
        },
        "id": "7gEnbD7wTF-f",
        "outputId": "70674404-6442-4ccc-8080-7981e40b69f9"
      },
      "execution_count": 31,
      "outputs": [
        {
          "output_type": "execute_result",
          "data": {
            "text/plain": [
              "Text(0.5, 1.0, 'Comparions')"
            ]
          },
          "metadata": {},
          "execution_count": 31
        },
        {
          "output_type": "display_data",
          "data": {
            "text/plain": [
              "<Figure size 640x480 with 1 Axes>"
            ],
            "image/png": "[encoded data removed]"
          },
          "metadata": {}
        }
      ]
    }
  ]
}
